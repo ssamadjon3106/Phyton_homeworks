{
 "cells": [
  {
   "cell_type": "code",
   "execution_count": 1,
   "id": "8a079713",
   "metadata": {},
   "outputs": [
    {
     "data": {
      "text/plain": [
       "array([  0.        ,  20.        ,  37.77777778, 100.        ,\n",
       "        25.        ])"
      ]
     },
     "execution_count": 1,
     "metadata": {},
     "output_type": "execute_result"
    }
   ],
   "source": [
    "import numpy as np\n",
    "@np.vectorize\n",
    "def convertor(arr):\n",
    "    return (arr-32)*(5/9)\n",
    "f_t=np.array([32, 68, 100, 212, 77])\n",
    "c_t=convertor(f_t)    \n",
    "c_t"
   ]
  },
  {
   "cell_type": "code",
   "execution_count": 2,
   "id": "47fad531",
   "metadata": {},
   "outputs": [
    {
     "name": "stdout",
     "output_type": "stream",
     "text": [
      "Result: [  2   9  64 625]\n"
     ]
    }
   ],
   "source": [
    "@np.vectorize\n",
    "def custom_f(base, exponent):\n",
    "    return base ** exponent\n",
    "\n",
    "numbers=np.array([2, 3, 4, 5])\n",
    "power=np.array([1, 2, 3, 4])\n",
    "result=custom_f(numbers, power)\n",
    "print(f'Result: {result}')\n",
    "\n"
   ]
  },
  {
   "cell_type": "code",
   "execution_count": 3,
   "id": "792b5e88",
   "metadata": {},
   "outputs": [
    {
     "data": {
      "text/plain": [
       "array([ 1.7027027 ,  0.62162162, -0.48648649])"
      ]
     },
     "execution_count": 3,
     "metadata": {},
     "output_type": "execute_result"
    }
   ],
   "source": [
    "w=np.array([\n",
    "    [4, 5, 6], \n",
    "    [3,-1,1],\n",
    "    [2,1, -2]\n",
    "])\n",
    "\n",
    "z=np.array([7, 4, 5])\n",
    "np.linalg.solve(w, z)"
   ]
  },
  {
   "cell_type": "code",
   "execution_count": 4,
   "id": "ddc1392d",
   "metadata": {},
   "outputs": [
    {
     "data": {
      "text/plain": [
       "array([ 0.48963731, -0.2253886 ,  2.21761658])"
      ]
     },
     "execution_count": 4,
     "metadata": {},
     "output_type": "execute_result"
    }
   ],
   "source": [
    "q=np.array([\n",
    "    [10, -2, 3], \n",
    "    [-2,8,-1],\n",
    "    [3,-1, 6]\n",
    "])\n",
    "r=np.array([12, -5, 15])\n",
    "np.linalg.solve(q, r)"
   ]
  },
  {
   "cell_type": "code",
   "execution_count": 5,
   "id": "0ccfc8c7",
   "metadata": {},
   "outputs": [
    {
     "data": {
      "text/plain": [
       "array([[[ 61,  48, 104],\n",
       "        [ 73,  52, 111],\n",
       "        [ 53,  14,  77],\n",
       "        ...,\n",
       "        [  0,  37,  79],\n",
       "        [ 19,  68, 109],\n",
       "        [  7,  46, 103]],\n",
       "\n",
       "       [[ 91,  76, 133],\n",
       "        [ 93,  72, 131],\n",
       "        [120,  84, 146],\n",
       "        ...,\n",
       "        [ 49,  76, 119],\n",
       "        [ 53,  92, 135],\n",
       "        [ 10,  47, 100]],\n",
       "\n",
       "       [[ 83,  63, 122],\n",
       "        [104,  80, 140],\n",
       "        [124,  93, 153],\n",
       "        ...,\n",
       "        [ 69,  75, 125],\n",
       "        [ 39,  57, 105],\n",
       "        [ 22,  56, 104]],\n",
       "\n",
       "       ...,\n",
       "\n",
       "       [[ 72,  67, 108],\n",
       "        [ 41,  34,  75],\n",
       "        [ 61,  46,  85],\n",
       "        ...,\n",
       "        [ 18,  15,  32],\n",
       "        [ 13,  18,  22],\n",
       "        [  0,   9,  18]],\n",
       "\n",
       "       [[ 24,  23,  63],\n",
       "        [ 18,  13,  53],\n",
       "        [ 54,  42,  80],\n",
       "        ...,\n",
       "        [ 11,   9,  23],\n",
       "        [  0,   0,   4],\n",
       "        [ 37,  32,  38]],\n",
       "\n",
       "       [[ 30,  34,  72],\n",
       "        [ 72,  72, 110],\n",
       "        [ 37,  27,  64],\n",
       "        ...,\n",
       "        [ 10,   9,  23],\n",
       "        [  2,   0,   1],\n",
       "        [ 31,  12,  14]]], dtype=uint8)"
      ]
     },
     "execution_count": 5,
     "metadata": {},
     "output_type": "execute_result"
    }
   ],
   "source": [
    "from PIL import Image\n",
    "\n",
    "# Load and display image\n",
    "image = Image.open('me1.jpg')\n",
    "arr_img=np.array(image)\n",
    "arr_img"
   ]
  },
  {
   "cell_type": "code",
   "execution_count": 6,
   "id": "5cc8ce48",
   "metadata": {},
   "outputs": [],
   "source": [
    "import numpy as np\n",
    "from PIL import Image\n",
    "\n",
    "\n",
    "reverse = arr_img[:, ::-1, :]  \n",
    "\n",
    "reverse_pil = Image.fromarray(reverse)\n",
    "reverse_pil.save('reverse_image.jpg')  "
   ]
  },
  {
   "cell_type": "code",
   "execution_count": 7,
   "id": "6e0aaf6d",
   "metadata": {},
   "outputs": [],
   "source": [
    "up_to_down=arr_img[::-1, :, :]\n",
    "up_to_down_pil=Image.fromarray(up_to_down)\n",
    "up_to_down_pil.save('up_to_dwon.jpg')"
   ]
  },
  {
   "cell_type": "code",
   "execution_count": 8,
   "id": "d3346482",
   "metadata": {},
   "outputs": [],
   "source": [
    "import numpy as np\n",
    "from PIL import Image\n",
    "\n",
    "noise=np.random.randint(0, 40, arr_img.shape, dtype='uint8')\n",
    "noise_adj=np.clip(arr_img+noise, 0, 255)\n",
    "noise_img=Image.fromarray(noise_adj.astype('uint8'))\n",
    "noise_img.save('noisy_image.jpg')"
   ]
  },
  {
   "cell_type": "code",
   "execution_count": 9,
   "id": "7bb56553",
   "metadata": {},
   "outputs": [],
   "source": [
    "import numpy as np\n",
    "from PIL import Image\n",
    "\n",
    "\n",
    "a0, a1 = 100, 200\n",
    "b0, b1 = 100, 200\n",
    "\n",
    "\n",
    "modified_img = arr_img.copy()\n",
    "\n",
    "\n",
    "modified_img[a0:a1, b0:b1, :] = [0, 0, 0]  \n",
    "\n",
    "\n",
    "modified_pil = Image.fromarray(modified_img)\n",
    "modified_pil.save('cropped_black_region.jpg')\n",
    "\n"
   ]
  },
  {
   "cell_type": "code",
   "execution_count": null,
   "id": "dd8aef79",
   "metadata": {},
   "outputs": [],
   "source": []
  }
 ],
 "metadata": {
  "kernelspec": {
   "display_name": "Python 3",
   "language": "python",
   "name": "python3"
  },
  "language_info": {
   "codemirror_mode": {
    "name": "ipython",
    "version": 3
   },
   "file_extension": ".py",
   "mimetype": "text/x-python",
   "name": "python",
   "nbconvert_exporter": "python",
   "pygments_lexer": "ipython3",
   "version": "3.9.6"
  }
 },
 "nbformat": 4,
 "nbformat_minor": 5
}
