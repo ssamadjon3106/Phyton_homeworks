{
 "cells": [
  {
   "cell_type": "code",
   "execution_count": 3,
   "id": "002374e8",
   "metadata": {},
   "outputs": [
    {
     "data": {
      "text/plain": [
       "array([10, 11, 12, 13, 14, 15, 16, 17, 18, 19, 20, 21, 22, 23, 24, 25, 26,\n",
       "       27, 28, 29, 30, 31, 32, 33, 34, 35, 36, 37, 38, 39, 40, 41, 42, 43,\n",
       "       44, 45, 46, 47, 48])"
      ]
     },
     "execution_count": 3,
     "metadata": {},
     "output_type": "execute_result"
    }
   ],
   "source": [
    "import numpy as np\n",
    "np.arange(10,49)"
   ]
  },
  {
   "cell_type": "code",
   "execution_count": 8,
   "id": "720cde89",
   "metadata": {},
   "outputs": [
    {
     "data": {
      "text/plain": [
       "array([[0, 1, 2],\n",
       "       [3, 4, 5],\n",
       "       [6, 7, 8]])"
      ]
     },
     "execution_count": 8,
     "metadata": {},
     "output_type": "execute_result"
    }
   ],
   "source": [
    "np.array([[0, 1, 2], \n",
    "         [3, 4, 5],\n",
    "         [6, 7 ,8 ]])"
   ]
  },
  {
   "cell_type": "code",
   "execution_count": 3,
   "id": "f9b7bb1d",
   "metadata": {},
   "outputs": [
    {
     "name": "stdout",
     "output_type": "stream",
     "text": [
      "[[0 1 2]\n",
      " [3 4 5]\n",
      " [6 7 8]]\n"
     ]
    }
   ],
   "source": [
    "import numpy as np\n",
    "matrix=np.arange(9).reshape(3, 3)\n",
    "print(matrix)"
   ]
  },
  {
   "cell_type": "code",
   "execution_count": 17,
   "id": "a90a9b58",
   "metadata": {},
   "outputs": [
    {
     "data": {
      "text/plain": [
       "array([[1., 0., 0.],\n",
       "       [0., 1., 0.],\n",
       "       [0., 0., 1.]])"
      ]
     },
     "execution_count": 17,
     "metadata": {},
     "output_type": "execute_result"
    }
   ],
   "source": [
    "np.eye(3, 3)"
   ]
  },
  {
   "cell_type": "code",
   "execution_count": 28,
   "id": "ed0c3b08",
   "metadata": {},
   "outputs": [
    {
     "data": {
      "text/plain": [
       "array([[[435, 517, 798],\n",
       "        [725, 425, 817],\n",
       "        [896,  74, 768]],\n",
       "\n",
       "       [[648, 585, 820],\n",
       "        [816, 683, 486],\n",
       "        [251,   0, 182]],\n",
       "\n",
       "       [[933,  75, 492],\n",
       "        [695, 355, 906],\n",
       "        [947, 838, 812]]])"
      ]
     },
     "execution_count": 28,
     "metadata": {},
     "output_type": "execute_result"
    }
   ],
   "source": [
    "import random\n",
    "\n",
    "np.random.randint(0,1000, size=(3, 3, 3))\n"
   ]
  },
  {
   "cell_type": "code",
   "execution_count": 31,
   "id": "7bd40bda",
   "metadata": {},
   "outputs": [
    {
     "data": {
      "text/plain": [
       "np.int64(996)"
      ]
     },
     "execution_count": 31,
     "metadata": {},
     "output_type": "execute_result"
    }
   ],
   "source": [
    "np.random.randint(0, 1000, size=(10, 10)).max()"
   ]
  },
  {
   "cell_type": "code",
   "execution_count": 5,
   "id": "063aea34",
   "metadata": {},
   "outputs": [
    {
     "data": {
      "text/plain": [
       "np.float64(48.96666666666667)"
      ]
     },
     "execution_count": 5,
     "metadata": {},
     "output_type": "execute_result"
    }
   ],
   "source": [
    "a=np.random.randint(0, 100, size=(3, 10))\n",
    "a.mean()\n",
    "\n",
    "\n",
    "\n",
    "\n"
   ]
  },
  {
   "cell_type": "code",
   "execution_count": 44,
   "id": "d4c681c0",
   "metadata": {},
   "outputs": [
    {
     "name": "stdout",
     "output_type": "stream",
     "text": [
      "Original matrix is [[48 96 57 33 94]\n",
      " [57 82 79 70 18]\n",
      " [52 28 92 44  6]\n",
      " [56 59 83 77 95]\n",
      " [47 17 35 49 44]]\n",
      "Normalized matriz is [[0.46666667 1.         0.56666667 0.3        0.97777778]\n",
      " [0.56666667 0.84444444 0.81111111 0.71111111 0.13333333]\n",
      " [0.51111111 0.24444444 0.95555556 0.42222222 0.        ]\n",
      " [0.55555556 0.58888889 0.85555556 0.78888889 0.98888889]\n",
      " [0.45555556 0.12222222 0.32222222 0.47777778 0.42222222]]\n"
     ]
    }
   ],
   "source": [
    "matrix=np.random.randint(0, 100, size=(5, 5))\n",
    "normalized_matrix=(matrix-matrix.min())/(matrix.max()-matrix.min())\n",
    "print(f'Original matrix is {matrix}')\n",
    "print(f'Normalized matriz is {normalized_matrix}')"
   ]
  },
  {
   "cell_type": "code",
   "execution_count": 48,
   "id": "f684ea25",
   "metadata": {},
   "outputs": [
    {
     "data": {
      "text/plain": [
       "array([[ 27,  21],\n",
       "       [ 75,  86],\n",
       "       [ 42,  31],\n",
       "       [108,  97],\n",
       "       [107, 121]])"
      ]
     },
     "execution_count": 48,
     "metadata": {},
     "output_type": "execute_result"
    }
   ],
   "source": [
    "matrix1=np.random.randint(0,10, size=(5, 3))\n",
    "matrix2=np.random.randint(0,10, size=(3, 2))\n",
    "multply=matrix1 @ matrix2\n",
    "multply"
   ]
  },
  {
   "cell_type": "code",
   "execution_count": null,
   "id": "332983b4",
   "metadata": {},
   "outputs": [
    {
     "data": {
      "text/plain": [
       "array([[ 9137.0881374 ,  7539.45214393,  5221.11465524],\n",
       "       [ 6295.49362587,  7138.40646028,  6058.61653743],\n",
       "       [11335.04957144,  5221.37723101,  4474.35351222]])"
      ]
     },
     "execution_count": 52,
     "metadata": {},
     "output_type": "execute_result"
    }
   ],
   "source": [
    "mat=np.random.rand(3,3)*100\n",
    "mat1=np.random.rand(3, 3)*100\n",
    "\n",
    "hey=mat @ mat1\n",
    "hey"
   ]
  },
  {
   "cell_type": "code",
   "execution_count": 53,
   "id": "fcf0c399",
   "metadata": {},
   "outputs": [
    {
     "data": {
      "text/plain": [
       "array([[92.46147528, 28.16018057, 39.65186306,  9.03157129],\n",
       "       [46.53228215,  6.00640768, 95.9190773 , 79.91342674],\n",
       "       [46.71500317, 45.17762519, 37.43209572, 57.62271545],\n",
       "       [57.98519268, 17.24409689, 75.20556718, 75.67956574]])"
      ]
     },
     "execution_count": 53,
     "metadata": {},
     "output_type": "execute_result"
    }
   ],
   "source": [
    "mat=np.random.rand(4, 4)*100\n",
    "bay=mat.transpose()\n",
    "bay"
   ]
  },
  {
   "cell_type": "code",
   "execution_count": 4,
   "id": "53b000c8",
   "metadata": {},
   "outputs": [
    {
     "data": {
      "text/plain": [
       "np.float64(-28742.629109684964)"
      ]
     },
     "execution_count": 4,
     "metadata": {},
     "output_type": "execute_result"
    }
   ],
   "source": [
    "mat=np.random.rand(3, 3)*100\n",
    "det=np.linalg.det(mat)\n",
    "det"
   ]
  },
  {
   "cell_type": "code",
   "execution_count": 55,
   "id": "919b25b0",
   "metadata": {},
   "outputs": [
    {
     "data": {
      "text/plain": [
       "array([[1278.99372913, 1437.62247231, 2089.55829309],\n",
       "       [1470.35501017, 1894.03818986, 2641.79790029],\n",
       "       [2299.30854025, 1938.76790129, 2690.98549846]])"
      ]
     },
     "execution_count": 55,
     "metadata": {},
     "output_type": "execute_result"
    }
   ],
   "source": [
    "tur=np.random.rand(4, 3)*50\n",
    "hrr=np.random.rand(3, 4)*32\n",
    "sur=hrr @ tur\n",
    "sur"
   ]
  },
  {
   "cell_type": "code",
   "execution_count": 58,
   "id": "01defe66",
   "metadata": {},
   "outputs": [
    {
     "data": {
      "text/plain": [
       "array([[ 41.39829753,   5.81380108, 282.40346061],\n",
       "       [ 96.08115787,  63.58833473, 229.43447363],\n",
       "       [ 24.87371102, 190.87100367, 259.89578599]])"
      ]
     },
     "execution_count": 58,
     "metadata": {},
     "output_type": "execute_result"
    }
   ],
   "source": [
    "mat\n",
    "bore=np.array([1, 2,3])\n",
    "der=mat* bore\n",
    "der"
   ]
  },
  {
   "cell_type": "code",
   "execution_count": null,
   "id": "b12d19c7",
   "metadata": {},
   "outputs": [
    {
     "data": {
      "text/plain": [
       "array([[0.02415558, 0.34400902, 0.0106231 ],\n",
       "       [0.01040787, 0.03145231, 0.01307563],\n",
       "       [0.04020309, 0.01047828, 0.01154309]])"
      ]
     },
     "execution_count": 60,
     "metadata": {},
     "output_type": "execute_result"
    }
   ],
   "source": [
    "linear=bore/der\n",
    "linear\n"
   ]
  },
  {
   "cell_type": "code",
   "execution_count": null,
   "id": "09d102bf",
   "metadata": {},
   "outputs": [
    {
     "data": {
      "text/plain": [
       "array([[ 5.00413428,  0.88914506, 14.90048776,  7.1727197 , 27.31713548],\n",
       "       [24.13568018, 10.78880816, 30.97770483, 10.21779969, 18.07261394],\n",
       "       [26.61983969, 11.41650533,  1.08835818, 31.82415174, 18.14609759],\n",
       "       [ 9.05865649, 25.90786431, 13.84142138, 12.6259823 , 17.75534087],\n",
       "       [15.53536927,  3.39918546, 16.27476522, 27.26344848, 13.55240595]])"
      ]
     },
     "execution_count": 61,
     "metadata": {},
     "output_type": "execute_result"
    }
   ],
   "source": [
    "pish=np.random.rand(5, 5)*33\n"
   ]
  },
  {
   "cell_type": "code",
   "execution_count": 74,
   "id": "4b661c32",
   "metadata": {},
   "outputs": [
    {
     "name": "stdout",
     "output_type": "stream",
     "text": [
      "column_wise sums:\n",
      " 55.283622277191924,\n",
      " 94.19260681044723,\n",
      " 89.09495253375923,\n",
      " 79.18926534819592,\n",
      " 76.02517437819954\n"
     ]
    }
   ],
   "source": [
    "a=pish[0].sum()\n",
    "b=pish[1].sum()\n",
    "c=pish[2].sum()\n",
    "d=pish[3].sum()\n",
    "r=pish[4].sum()\n",
    "print(f'column_wise sums:\\n {a},\\n {b},\\n {c},\\n {d},\\n {r}')"
   ]
  },
  {
   "cell_type": "code",
   "execution_count": 85,
   "id": "b23cd629",
   "metadata": {},
   "outputs": [
    {
     "name": "stdout",
     "output_type": "stream",
     "text": [
      "Row-wise sums:\n",
      "80.35367990834803,\n",
      "52.40150833261812,\n",
      "77.08273736575654,\n",
      "89.10410191157203,\n",
      "94.84359382949908\n"
     ]
    }
   ],
   "source": [
    "q=pish[0:5, 0].sum()\n",
    "w=pish[0:5, 1].sum()\n",
    "e=pish[0:5, 2].sum()\n",
    "t=pish[0:5, 3].sum()\n",
    "u=pish[0:5, 4].sum()\n",
    "print(f'Row-wise sums:\\n{q},\\n{w},\\n{e},\\n{t},\\n{u}')\n"
   ]
  },
  {
   "cell_type": "code",
   "execution_count": null,
   "id": "6da1319b",
   "metadata": {},
   "outputs": [],
   "source": []
  }
 ],
 "metadata": {
  "kernelspec": {
   "display_name": "Python 3",
   "language": "python",
   "name": "python3"
  },
  "language_info": {
   "codemirror_mode": {
    "name": "ipython",
    "version": 3
   },
   "file_extension": ".py",
   "mimetype": "text/x-python",
   "name": "python",
   "nbconvert_exporter": "python",
   "pygments_lexer": "ipython3",
   "version": "3.9.6"
  }
 },
 "nbformat": 4,
 "nbformat_minor": 5
}
