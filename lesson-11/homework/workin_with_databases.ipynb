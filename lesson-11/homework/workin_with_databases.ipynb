{
 "cells": [
  {
   "cell_type": "code",
   "execution_count": 1,
   "id": "0f7c9b27",
   "metadata": {},
   "outputs": [],
   "source": [
    "import sqlite3"
   ]
  },
  {
   "cell_type": "code",
   "execution_count": 5,
   "id": "a57e3a16",
   "metadata": {},
   "outputs": [
    {
     "data": {
      "text/plain": [
       "<sqlite3.Connection at 0x105712e40>"
      ]
     },
     "execution_count": 5,
     "metadata": {},
     "output_type": "execute_result"
    }
   ],
   "source": [
    "connection=sqlite3.connect('hello.db')\n",
    "connection\n"
   ]
  },
  {
   "cell_type": "code",
   "execution_count": 10,
   "id": "dc6b7c69",
   "metadata": {},
   "outputs": [],
   "source": [
    "con=sqlite3.connect(':memory:')\n",
    "query=\"Select datetime('now', 'localtime')\"\n",
    "cursor=con.cursor()\n",
    "time=cursor.execute(query)\n",
    "time.fetchone()\n",
    "con.close()"
   ]
  },
  {
   "cell_type": "code",
   "execution_count": 18,
   "id": "58d6a9d2",
   "metadata": {},
   "outputs": [
    {
     "data": {
      "text/plain": [
       "('2025-05-12 09:50:56',)"
      ]
     },
     "execution_count": 18,
     "metadata": {},
     "output_type": "execute_result"
    }
   ],
   "source": [
    "import sqlite3\n",
    "with sqlite3.connect('hello.db') as file:\n",
    "    cursor=file.cursor()\n",
    "    query=\"Select datetime('now', 'localtime')\"\n",
    "    data=cursor.execute(query)\n",
    "    \n",
    "data.fetchone()"
   ]
  },
  {
   "cell_type": "code",
   "execution_count": null,
   "id": "49488898",
   "metadata": {},
   "outputs": [],
   "source": [
    "with sqlite3.connect('students.db') as file:\n",
    "    cursor=file.cursor()\n",
    "    query=\"Create table Students(fname text, lname text, age int);\"\n",
    "    data=cursor.execute(query)"
   ]
  },
  {
   "cell_type": "code",
   "execution_count": 21,
   "id": "5759970f",
   "metadata": {},
   "outputs": [],
   "source": [
    "with sqlite3.connect('students.db') as file:\n",
    "    cursor=file.cursor()\n",
    "    query=\"Insert into Students Values('Ali', 'Valiev', 23);\"\n",
    "    data=cursor.execute(query)"
   ]
  },
  {
   "cell_type": "code",
   "execution_count": 55,
   "id": "fbdc21ee",
   "metadata": {},
   "outputs": [],
   "source": [
    "create = \"\"\" \n",
    "CREATE TABLE IF NOT EXISTS Students (\n",
    "    fname TEXT, \n",
    "    lname TEXT, \n",
    "    age INT\n",
    ");\n",
    "\"\"\"\n",
    "\n",
    "data = \"\"\"\n",
    "INSERT INTO Students VALUES \n",
    "('Ali', 'Valiev', 23),\n",
    "('Samadjon', 'Sayfullayev', 19);\n",
    "\"\"\"\n",
    "delete = \"\"\"\n",
    "DELETE FROM Students \n",
    "WHERE fname = 'Ali' AND lname = 'Valiev' AND age = 23;\n",
    "\"\"\"\n"
   ]
  },
  {
   "cell_type": "code",
   "execution_count": 56,
   "id": "583a3c5a",
   "metadata": {},
   "outputs": [],
   "source": [
    "import sqlite3\n",
    "\n",
    "with sqlite3.connect('bore.db') as file:    \n",
    "    cursor = file.cursor()    \n",
    "    cursor.execute(create)\n",
    "    cursor.execute(data)\n",
    "    cursor.execute(delete)\n"
   ]
  },
  {
   "cell_type": "code",
   "execution_count": 83,
   "id": "07d9f498",
   "metadata": {},
   "outputs": [],
   "source": [
    "sql=\"\"\"\n",
    "CREATE TABLE IF NOT EXISTS Students (\n",
    "    fname TEXT, \n",
    "    lname TEXT, \n",
    "    age INT);\n",
    "\n",
    "INSERT INTO Students VALUES \n",
    "('Ali', 'Valiev', 23),\n",
    "('Samadjon', 'Sayfullayev', 19), \n",
    "('hey', 'balabla', 23);\n",
    "\n",
    "\"\"\""
   ]
  },
  {
   "cell_type": "code",
   "execution_count": 84,
   "id": "fbc3f535",
   "metadata": {},
   "outputs": [],
   "source": [
    "with sqlite3.connect('baybaya.db') as f:\n",
    "    cursor=f.cursor()\n",
    "    cursor.executescript(sql)\n",
    "\n"
   ]
  },
  {
   "cell_type": "code",
   "execution_count": 86,
   "id": "33a69cec",
   "metadata": {},
   "outputs": [
    {
     "data": {
      "text/plain": [
       "[('Ali', 'Valiev', 23),\n",
       " ('Samadjon', 'Sayfullayev', 19),\n",
       " ('hey', 'balabla', 23)]"
      ]
     },
     "execution_count": 86,
     "metadata": {},
     "output_type": "execute_result"
    }
   ],
   "source": [
    "import sqlite3\n",
    "with sqlite3.connect('baybaya.db') as f:\n",
    "    cursor=f.cursor()\n",
    "    query='Select * from Students'\n",
    "    data=cursor.execute(query)\n",
    "\n",
    "data.fetchmany(3)"
   ]
  },
  {
   "cell_type": "code",
   "execution_count": 87,
   "id": "bc536d9f",
   "metadata": {},
   "outputs": [
    {
     "data": {
      "text/plain": [
       "[('Ali', 'Valiev', 23),\n",
       " ('hey', 'balabla', 23),\n",
       " ('Samadjon', 'Sayfullayev', 19)]"
      ]
     },
     "execution_count": 87,
     "metadata": {},
     "output_type": "execute_result"
    }
   ],
   "source": [
    "import sqlite3\n",
    "with sqlite3.connect('baybaya.db') as f:\n",
    "    cursor=f.cursor()\n",
    "    query='Select * from Students order by age desc'\n",
    "    data=cursor.execute(query)\n",
    "\n",
    "data.fetchall()\n"
   ]
  },
  {
   "cell_type": "code",
   "execution_count": 96,
   "id": "19e512ba",
   "metadata": {},
   "outputs": [],
   "source": [
    "student_values=(\n",
    "    ('Ali', 'Valiev', 23),\n",
    "    ('Samadjon', 'Sayfullayev', 19),    \n",
    "    ('hey', 'balabla', 23)\n",
    ")"
   ]
  },
  {
   "cell_type": "code",
   "execution_count": 98,
   "id": "111f1be3",
   "metadata": {},
   "outputs": [],
   "source": [
    "import sqlite3\n",
    "with sqlite3.connect('baybaya.db') as f:\n",
    "\n",
    "    cursor=f.cursor()\n",
    "    placeholders = \", \".join(['?'] * 3)\n",
    "    data=cursor.executemany(f'INSERT INTO Students VALUES ({placeholders})', student_values)"
   ]
  },
  {
   "cell_type": "code",
   "execution_count": 103,
   "id": "e9b412d6",
   "metadata": {},
   "outputs": [],
   "source": [
    "fname=input('name?')\n",
    "lname=input('surname?')\n",
    "age=input('age?')\n",
    "\n",
    "values=[(fname, lname, age)]\n",
    "\n",
    "\n",
    "with sqlite3.connect('baybaya.db') as file:\n",
    "    cursor=file.cursor()\n",
    "    data=cursor.executemany(f'INSERT INTO Students VALUES(?, ?, ?)', values)"
   ]
  },
  {
   "cell_type": "code",
   "execution_count": null,
   "id": "49c46179",
   "metadata": {},
   "outputs": [
    {
     "name": "stdout",
     "output_type": "stream",
     "text": [
      "Column 'email' already exists.\n",
      "('Ali', 'Valiev', 23, 'hello@gmail.com')\n",
      "('Samadjon', 'Sayfullayev', 19, 'hello@gmail.com')\n",
      "('hey', 'balabla', 23, 'hello@gmail.com')\n",
      "('Ali', 'Valiev', 23, 'hello@gmail.com')\n",
      "('Samadjon', 'Sayfullayev', 19, 'hello@gmail.com')\n",
      "('hey', 'balabla', 23, 'hello@gmail.com')\n",
      "('Ali', 'Valiev', 23, 'hello@gmail.com')\n",
      "('Samadjon', 'Sayfullayev', 19, 'hello@gmail.com')\n",
      "('hey', 'balabla', 23, 'hello@gmail.com')\n",
      "('Ali', 'Valiev', 23, 'hello@gmail.com')\n",
      "('Samadjon', 'Sayfullayev', 19, 'hello@gmail.com')\n",
      "('hey', 'balabla', 23, 'hello@gmail.com')\n"
     ]
    }
   ],
   "source": [
    "import sqlite3\n",
    "\n",
    "sql = \"\"\"\n",
    "CREATE TABLE IF NOT EXISTS Students (\n",
    "    fname TEXT, \n",
    "    lname TEXT, \n",
    "    age INT\n",
    ");\n",
    "\n",
    "INSERT INTO Students (fname, lname, age) VALUES \n",
    "('Ali', 'Valiev', 23),\n",
    "('Samadjon', 'Sayfullayev', 19), \n",
    "('hey', 'balabla', 23);\n",
    "\"\"\"\n",
    "\n",
    "with sqlite3.connect('heyya.db') as f:\n",
    "    cursor = f.cursor()\n",
    "\n",
    "   \n",
    "    cursor.executescript(sql)\n",
    "\n",
    "\n",
    "    try:\n",
    "        cursor.execute('ALTER TABLE Students ADD COLUMN email TEXT')\n",
    "    except sqlite3.OperationalError:\n",
    "        print(\"Column 'email' already exists.\")\n",
    "\n",
    "    \n",
    "    cursor.execute(\"UPDATE Students SET email='hello@gmail.com' WHERE email IS NULL\")\n",
    "\n",
    "    cursor.execute(\"SELECT * FROM Students\")\n",
    "    for row in cursor.fetchall():\n",
    "        print(row)\n",
    "        \n",
    "\n"
   ]
  },
  {
   "cell_type": "code",
   "execution_count": null,
   "id": "dc16aab4",
   "metadata": {},
   "outputs": [],
   "source": [
    "import sqlite3\n",
    "\n",
    "sql = \"\"\"\n",
    "CREATE TABLE IF NOT EXISTS Books (\n",
    "    Title TEXT, \n",
    "    Author TEXT, \n",
    "    AgeYear_Published INT, \n",
    "    Genre TEXT\n",
    "    );\n",
    "\n",
    "-- Insert initial data\n",
    "INSERT INTO Books (Title, Author, AgeYear_Published, Genre ) VALUES \n",
    "('To Kill a Mockingbird', 'Harper Lee', 1960, 'Fiction'),\n",
    "('1984', 'George Orwell', 3\t19490), \n",
    "('Kira Nerys', 'Bajoran', 29);\n",
    "\"\"\""
   ]
  }
 ],
 "metadata": {
  "kernelspec": {
   "display_name": "Python 3",
   "language": "python",
   "name": "python3"
  },
  "language_info": {
   "codemirror_mode": {
    "name": "ipython",
    "version": 3
   },
   "file_extension": ".py",
   "mimetype": "text/x-python",
   "name": "python",
   "nbconvert_exporter": "python",
   "pygments_lexer": "ipython3",
   "version": "3.9.6"
  }
 },
 "nbformat": 4,
 "nbformat_minor": 5
}
