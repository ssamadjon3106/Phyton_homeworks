{
 "cells": [
  {
   "cell_type": "markdown",
   "id": "2e6a7089",
   "metadata": {},
   "source": [
    "# TASK 1\n"
   ]
  },
  {
   "cell_type": "code",
   "execution_count": null,
   "id": "87e39821",
   "metadata": {},
   "outputs": [],
   "source": [
    "from bs4 import BeautifulSoup\n",
    "\n",
    "with open('/Users/samadjon/Phyton_homeworks-6/lesson-12/homework/weather.html') as f:\n",
    "    soup = BeautifulSoup(f, 'html.parser')\n",
    "\n",
    "\n",
    "for row in soup.select('tbody tr'):\n",
    "    cells = [td.get_text(strip=True) for td in row.find_all('td')]\n",
    "    print(', '.join(cells))\n",
    "\n",
    "   "
   ]
  },
  {
   "cell_type": "code",
   "execution_count": 8,
   "id": "44a1f5ce",
   "metadata": {},
   "outputs": [
    {
     "name": "stdout",
     "output_type": "stream",
     "text": [
      "None\n"
     ]
    }
   ],
   "source": [
    "print(soup.title)  # Should print <title>Weather Forecast</title>\n"
   ]
  },
  {
   "cell_type": "code",
   "execution_count": 9,
   "id": "f25f9d83",
   "metadata": {},
   "outputs": [
    {
     "name": "stdout",
     "output_type": "stream",
     "text": [
      "\n"
     ]
    }
   ],
   "source": [
    "with open('/Users/samadjon/Phyton_homeworks-6/lesson-12/homework/weather.html') as f:\n",
    "    content = f.read()\n",
    "    print(content)  # This should show your HTML content\n"
   ]
  },
  {
   "cell_type": "code",
   "execution_count": null,
   "id": "8f5e3159",
   "metadata": {},
   "outputs": [],
   "source": []
  }
 ],
 "metadata": {
  "kernelspec": {
   "display_name": "Python 3",
   "language": "python",
   "name": "python3"
  },
  "language_info": {
   "codemirror_mode": {
    "name": "ipython",
    "version": 3
   },
   "file_extension": ".py",
   "mimetype": "text/x-python",
   "name": "python",
   "nbconvert_exporter": "python",
   "pygments_lexer": "ipython3",
   "version": "3.9.6"
  }
 },
 "nbformat": 4,
 "nbformat_minor": 5
}
