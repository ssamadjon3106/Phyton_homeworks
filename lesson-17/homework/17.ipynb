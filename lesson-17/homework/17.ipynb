{
 "cells": [
  {
   "cell_type": "code",
   "execution_count": 17,
   "id": "11b2a513",
   "metadata": {},
   "outputs": [
    {
     "data": {
      "text/html": [
       "<div>\n",
       "<style scoped>\n",
       "    .dataframe tbody tr th:only-of-type {\n",
       "        vertical-align: middle;\n",
       "    }\n",
       "\n",
       "    .dataframe tbody tr th {\n",
       "        vertical-align: top;\n",
       "    }\n",
       "\n",
       "    .dataframe thead th {\n",
       "        text-align: right;\n",
       "    }\n",
       "</style>\n",
       "<table border=\"1\" class=\"dataframe\">\n",
       "  <thead>\n",
       "    <tr style=\"text-align: right;\">\n",
       "      <th></th>\n",
       "      <th>CustomerId</th>\n",
       "      <th>FirstName</th>\n",
       "      <th>LastName</th>\n",
       "      <th>TotalInvoices</th>\n",
       "    </tr>\n",
       "  </thead>\n",
       "  <tbody>\n",
       "    <tr>\n",
       "      <th>0</th>\n",
       "      <td>1</td>\n",
       "      <td>Luís</td>\n",
       "      <td>Gonçalves</td>\n",
       "      <td>7</td>\n",
       "    </tr>\n",
       "    <tr>\n",
       "      <th>1</th>\n",
       "      <td>2</td>\n",
       "      <td>Leonie</td>\n",
       "      <td>Köhler</td>\n",
       "      <td>7</td>\n",
       "    </tr>\n",
       "    <tr>\n",
       "      <th>2</th>\n",
       "      <td>3</td>\n",
       "      <td>François</td>\n",
       "      <td>Tremblay</td>\n",
       "      <td>7</td>\n",
       "    </tr>\n",
       "    <tr>\n",
       "      <th>3</th>\n",
       "      <td>4</td>\n",
       "      <td>Bjørn</td>\n",
       "      <td>Hansen</td>\n",
       "      <td>7</td>\n",
       "    </tr>\n",
       "    <tr>\n",
       "      <th>4</th>\n",
       "      <td>5</td>\n",
       "      <td>František</td>\n",
       "      <td>Wichterlová</td>\n",
       "      <td>7</td>\n",
       "    </tr>\n",
       "    <tr>\n",
       "      <th>5</th>\n",
       "      <td>6</td>\n",
       "      <td>Helena</td>\n",
       "      <td>Holý</td>\n",
       "      <td>7</td>\n",
       "    </tr>\n",
       "    <tr>\n",
       "      <th>6</th>\n",
       "      <td>7</td>\n",
       "      <td>Astrid</td>\n",
       "      <td>Gruber</td>\n",
       "      <td>7</td>\n",
       "    </tr>\n",
       "    <tr>\n",
       "      <th>7</th>\n",
       "      <td>8</td>\n",
       "      <td>Daan</td>\n",
       "      <td>Peeters</td>\n",
       "      <td>7</td>\n",
       "    </tr>\n",
       "    <tr>\n",
       "      <th>8</th>\n",
       "      <td>9</td>\n",
       "      <td>Kara</td>\n",
       "      <td>Nielsen</td>\n",
       "      <td>7</td>\n",
       "    </tr>\n",
       "    <tr>\n",
       "      <th>9</th>\n",
       "      <td>10</td>\n",
       "      <td>Eduardo</td>\n",
       "      <td>Martins</td>\n",
       "      <td>7</td>\n",
       "    </tr>\n",
       "  </tbody>\n",
       "</table>\n",
       "</div>"
      ],
      "text/plain": [
       "   CustomerId  FirstName     LastName  TotalInvoices\n",
       "0           1       Luís    Gonçalves              7\n",
       "1           2     Leonie       Köhler              7\n",
       "2           3   François     Tremblay              7\n",
       "3           4      Bjørn       Hansen              7\n",
       "4           5  František  Wichterlová              7\n",
       "5           6     Helena         Holý              7\n",
       "6           7     Astrid       Gruber              7\n",
       "7           8       Daan      Peeters              7\n",
       "8           9       Kara      Nielsen              7\n",
       "9          10    Eduardo      Martins              7"
      ]
     },
     "execution_count": 17,
     "metadata": {},
     "output_type": "execute_result"
    }
   ],
   "source": [
    "import sqlite3\n",
    "import pandas as pd\n",
    "\n",
    "# Connect to the chinook database\n",
    "con = sqlite3.connect('/Users/samadjon/Phyton_homeworks-7/Phyton_homeworks/lesson-17/chinook.db')\n",
    "\n",
    "# Load customers table\n",
    "df_customers = pd.read_sql_query(\"SELECT * FROM customers\", con)\n",
    "\n",
    "# Load invoices table\n",
    "df_invoices = pd.read_sql_query(\"SELECT * FROM invoices\", con)\n",
    "\n",
    "# Close the connection\n",
    "con.close()\n",
    "\n",
    "# Merge DataFrames on CustomerId (inner join by default)\n",
    "df_merged = pd.merge(df_customers, df_invoices, on='CustomerId', how='inner')\n",
    "\n",
    "# Count total invoices per customer\n",
    "invoice_counts = df_merged.groupby(['CustomerId', 'FirstName', 'LastName']).size().reset_index(name='TotalInvoices')\n",
    "\n",
    "# Display the result\n",
    "invoice_counts.head(10)\n"
   ]
  },
  {
   "cell_type": "code",
   "execution_count": 19,
   "id": "f71145bb",
   "metadata": {},
   "outputs": [],
   "source": [
    "import pandas as pd\n",
    "\n",
    "# Load the movie.csv file\n",
    "df_movie = pd.read_csv('/Users/samadjon/Phyton_homeworks-7/Phyton_homeworks/lesson-16/homework/movie.csv')\n",
    "\n",
    "# Create the first DataFrame with director_name and color\n",
    "df_color = df_movie[['director_name', 'color']]\n",
    "\n",
    "# Create the second DataFrame with director_name and num_critic_for_reviews\n",
    "df_critics = df_movie[['director_name', 'num_critic_for_reviews']]\n"
   ]
  },
  {
   "cell_type": "code",
   "execution_count": 20,
   "id": "88bcb56d",
   "metadata": {},
   "outputs": [],
   "source": [
    "# Left Join on director_name\n",
    "left_join = pd.merge(df_color, df_critics, on='director_name', how='left')\n",
    "\n",
    "# Full Outer Join on director_name\n",
    "outer_join = pd.merge(df_color, df_critics, on='director_name', how='outer')\n"
   ]
  },
  {
   "cell_type": "code",
   "execution_count": 21,
   "id": "f879beb8",
   "metadata": {},
   "outputs": [
    {
     "name": "stdout",
     "output_type": "stream",
     "text": [
      "Left Join Row Count: 30300\n",
      "Full Outer Join Row Count: 30300\n"
     ]
    }
   ],
   "source": [
    "# Count the number of rows in each joined DataFrame\n",
    "print(\"Left Join Row Count:\", len(left_join))\n",
    "print(\"Full Outer Join Row Count:\", len(outer_join))\n"
   ]
  },
  {
   "cell_type": "code",
   "execution_count": 23,
   "id": "d2f88911",
   "metadata": {},
   "outputs": [
    {
     "name": "stdout",
     "output_type": "stream",
     "text": [
      "   Pclass  average_age  total_fare  passenger_count\n",
      "0       1    38.233441  18177.4125              216\n",
      "1       2    29.877630   3801.8417              184\n",
      "2       3    25.140620   6714.6951              491\n"
     ]
    }
   ],
   "source": [
    "import pandas as pd\n",
    "\n",
    "# Load titanic dataset\n",
    "df_titanic = pd.read_excel('/Users/samadjon/Phyton_homeworks-7/Phyton_homeworks/lesson-16/homework/titanic.xlsx')\n",
    "\n",
    "# Group by Pclass and calculate the required aggregations\n",
    "titanic_grouped = df_titanic.groupby('Pclass').agg(\n",
    "    average_age=('Age', 'mean'),\n",
    "    total_fare=('Fare', 'sum'),\n",
    "    passenger_count=('PassengerId', 'count')\n",
    ").reset_index()\n",
    "\n",
    "# Display the results\n",
    "print(titanic_grouped)\n"
   ]
  },
  {
   "cell_type": "code",
   "execution_count": 25,
   "id": "397afd9a",
   "metadata": {},
   "outputs": [
    {
     "name": "stdout",
     "output_type": "stream",
     "text": [
      "             color     director_name  total_critic_reviews  average_duration\n",
      "0  Black and White    Akira Kurosawa                 153.0             202.0\n",
      "1  Black and White    Aleksey German                 121.0             177.0\n",
      "2  Black and White      Alex Garland                 489.0             108.0\n",
      "3  Black and White   Alexander Payne                 433.0             115.0\n",
      "4  Black and White  Alfred Hitchcock                 434.0             119.0\n",
      "5  Black and White        Allan Dwan                  40.0             109.0\n",
      "6  Black and White  Andrei Tarkovsky                 144.0             115.0\n",
      "7  Black and White   Andrew Bujalski                  52.0             109.0\n",
      "8  Black and White     Andrew Currie                 140.0              93.0\n",
      "9  Black and White      Andrew Davis                 106.0             117.0\n"
     ]
    }
   ],
   "source": [
    "\n",
    "\n",
    "# Group by color and director_name\n",
    "movie_grouped = df_movie.groupby(['color', 'director_name']).agg(\n",
    "    total_critic_reviews=('num_critic_for_reviews', 'sum'),\n",
    "    average_duration=('duration', 'mean')\n",
    ").reset_index()\n",
    "\n",
    "# Display the top 10 rows\n",
    "print(movie_grouped.head(10))\n"
   ]
  },
  {
   "cell_type": "code",
   "execution_count": 28,
   "id": "5f583d08",
   "metadata": {},
   "outputs": [
    {
     "name": "stdout",
     "output_type": "stream",
     "text": [
      "    Age Age_Group\n",
      "0  22.0     Adult\n",
      "1  38.0     Adult\n",
      "2  26.0     Adult\n",
      "3  35.0     Adult\n",
      "4  35.0     Adult\n",
      "5   NaN   Unknown\n",
      "6  54.0     Adult\n",
      "7   2.0     Child\n",
      "8  27.0     Adult\n",
      "9  14.0     Child\n"
     ]
    }
   ],
   "source": [
    "\n",
    "\n",
    "# Define custom function\n",
    "def classify_age(age):\n",
    "    if pd.isnull(age):\n",
    "        return 'Unknown'\n",
    "    return 'Child' if age < 18 else 'Adult'\n",
    "\n",
    "# Apply the function\n",
    "df_titanic['Age_Group'] = df_titanic['Age'].apply(classify_age)\n",
    "\n",
    "# Display the updated DataFrame\n",
    "print(df_titanic[['Age', 'Age_Group']].head(10))"
   ]
  },
  {
   "cell_type": "code",
   "execution_count": 32,
   "id": "a171cec0",
   "metadata": {},
   "outputs": [
    {
     "name": "stdout",
     "output_type": "stream",
     "text": [
      "   UNIQUE_ID                            POSITION_TITLE  \\\n",
      "0          0               ASSISTANT DIRECTOR (EX LVL)   \n",
      "1          1                         LIBRARY ASSISTANT   \n",
      "2          2                            POLICE OFFICER   \n",
      "3          3                         ENGINEER/OPERATOR   \n",
      "4          4                               ELECTRICIAN   \n",
      "5          5                     SENIOR POLICE OFFICER   \n",
      "6          6                                  ENGINEER   \n",
      "7          7                                 CARPENTER   \n",
      "8          8  DEPUTY ASSISTANT DIRECTOR (EXECUTIVE LEV   \n",
      "9          9            AIRPORT OPERATIONS COORDINATOR   \n",
      "\n",
      "                       DEPARTMENT  BASE_SALARY                       RACE  \\\n",
      "0     Municipal Courts Department     121862.0            Hispanic/Latino   \n",
      "1                         Library      26125.0            Hispanic/Latino   \n",
      "2   Houston Police Department-HPD      45279.0                      White   \n",
      "3   Houston Fire Department (HFD)      63166.0                      White   \n",
      "4     General Services Department      56347.0                      White   \n",
      "5   Houston Police Department-HPD      66614.0  Black or African American   \n",
      "6  Public Works & Engineering-PWE      71680.0     Asian/Pacific Islander   \n",
      "7    Houston Airport System (HAS)      42390.0                      White   \n",
      "8  Public Works & Engineering-PWE     107962.0                      White   \n",
      "9    Houston Airport System (HAS)      44616.0                        NaN   \n",
      "\n",
      "  EMPLOYMENT_TYPE  GENDER EMPLOYMENT_STATUS   HIRE_DATE    JOB_DATE  \\\n",
      "0       Full Time  Female            Active  2006-06-12  2012-10-13   \n",
      "1       Full Time  Female            Active  2000-07-19  2010-09-18   \n",
      "2       Full Time    Male            Active  2015-02-03  2015-02-03   \n",
      "3       Full Time    Male            Active  1982-02-08  1991-05-25   \n",
      "4       Full Time    Male            Active  1989-06-19  1994-10-22   \n",
      "5       Full Time    Male            Active  1984-11-26  2005-03-26   \n",
      "6       Full Time    Male            Active  2012-03-26  2012-03-26   \n",
      "7       Full Time    Male            Active  2013-11-04  2013-11-04   \n",
      "8       Full Time    Male            Active  1993-11-15  2013-01-05   \n",
      "9       Full Time    Male            Active  2016-03-14  2016-03-14   \n",
      "\n",
      "   Normalized_Salary  \n",
      "0           1.000000  \n",
      "1           0.000000  \n",
      "2           0.116351  \n",
      "3           0.192491  \n",
      "4           0.479189  \n",
      "5           0.238519  \n",
      "6           0.299395  \n",
      "7           0.101614  \n",
      "8           0.537736  \n",
      "9           0.115520  \n"
     ]
    }
   ],
   "source": [
    "\n",
    "# Load employee.csv\n",
    "df_employee = pd.read_csv('/Users/samadjon/Phyton_homeworks-7/Phyton_homeworks/lesson-16/homework/employee.csv')\n",
    "\n",
    "# Normalize salary within each department using groupby and transform\n",
    "df_employee['Normalized_Salary'] = df_employee.groupby('DEPARTMENT')['BASE_SALARY'].transform(\n",
    "    lambda x: (x - x.min()) / (x.max() - x.min())\n",
    ")\n",
    "\n",
    "# Display result\n",
    "print(df_employee.head(10))\n",
    "\n"
   ]
  },
  {
   "cell_type": "code",
   "execution_count": 33,
   "id": "e3e118e1",
   "metadata": {},
   "outputs": [
    {
     "name": "stdout",
     "output_type": "stream",
     "text": [
      "   duration Length_Category\n",
      "0     178.0            Long\n",
      "1     169.0            Long\n",
      "2     148.0            Long\n",
      "3     164.0            Long\n",
      "4       NaN         Unknown\n",
      "5     132.0            Long\n",
      "6     156.0            Long\n",
      "7     100.0          Medium\n",
      "8     141.0            Long\n",
      "9     153.0            Long\n"
     ]
    }
   ],
   "source": [
    "# Load movie.csv\n",
    "\n",
    "\n",
    "# Define classification function\n",
    "def classify_duration(duration):\n",
    "    if pd.isnull(duration):\n",
    "        return 'Unknown'\n",
    "    if duration < 60:\n",
    "        return 'Short'\n",
    "    elif duration <= 120:\n",
    "        return 'Medium'\n",
    "    else:\n",
    "        return 'Long'\n",
    "\n",
    "# Apply the function\n",
    "df_movie['Length_Category'] = df_movie['duration'].apply(classify_duration)\n",
    "\n",
    "# Show some examples\n",
    "print(df_movie[['duration', 'Length_Category']].head(10))\n"
   ]
  },
  {
   "cell_type": "code",
   "execution_count": 34,
   "id": "f4fba717",
   "metadata": {},
   "outputs": [
    {
     "name": "stdout",
     "output_type": "stream",
     "text": [
      "    Survived       Age     Fare  Fare_Per_Age\n",
      "1          1  38.00000  71.2833      1.875876\n",
      "2          1  26.00000   7.9250      0.304808\n",
      "3          1  35.00000  53.1000      1.517143\n",
      "8          1  27.00000  11.1333      0.412344\n",
      "9          1  14.00000  30.0708      2.147914\n",
      "10         1   4.00000  16.7000      4.175000\n",
      "11         1  58.00000  26.5500      0.457759\n",
      "15         1  55.00000  16.0000      0.290909\n",
      "17         1  28.34369  13.0000      0.458656\n",
      "19         1  28.34369   7.2250      0.254907\n"
     ]
    },
    {
     "name": "stderr",
     "output_type": "stream",
     "text": [
      "/var/folders/js/ymx9pdp10wxggvhltkc1ykp80000gn/T/ipykernel_776/2248169331.py:9: FutureWarning: A value is trying to be set on a copy of a DataFrame or Series through chained assignment using an inplace method.\n",
      "The behavior will change in pandas 3.0. This inplace method will never work because the intermediate object on which we are setting values always behaves as a copy.\n",
      "\n",
      "For example, when doing 'df[col].method(value, inplace=True)', try using 'df.method({col: value}, inplace=True)' or df[col] = df[col].method(value) instead, to perform the operation inplace on the original object.\n",
      "\n",
      "\n",
      "  df_pipeline['Age'].fillna(mean_age, inplace=True)\n"
     ]
    }
   ],
   "source": [
    "\n",
    "# Create the pipeline\n",
    "df_pipeline = (\n",
    "    df_titanic[df_titanic['Survived'] == 1]  # Filter survivors\n",
    "    .copy()  # To avoid SettingWithCopyWarning\n",
    ")\n",
    "\n",
    "# Fill missing Age values with mean\n",
    "mean_age = df_pipeline['Age'].mean()\n",
    "df_pipeline['Age'].fillna(mean_age, inplace=True)\n",
    "\n",
    "# Create new column Fare_Per_Age\n",
    "df_pipeline['Fare_Per_Age'] = df_pipeline['Fare'] / df_pipeline['Age']\n",
    "\n",
    "# Display the result\n",
    "print(df_pipeline[['Survived', 'Age', 'Fare', 'Fare_Per_Age']].head(10))\n"
   ]
  },
  {
   "cell_type": "code",
   "execution_count": null,
   "id": "de3e9494",
   "metadata": {},
   "outputs": [],
   "source": []
  }
 ],
 "metadata": {
  "kernelspec": {
   "display_name": "Python 3",
   "language": "python",
   "name": "python3"
  },
  "language_info": {
   "codemirror_mode": {
    "name": "ipython",
    "version": 3
   },
   "file_extension": ".py",
   "mimetype": "text/x-python",
   "name": "python",
   "nbconvert_exporter": "python",
   "pygments_lexer": "ipython3",
   "version": "3.9.6"
  }
 },
 "nbformat": 4,
 "nbformat_minor": 5
}
