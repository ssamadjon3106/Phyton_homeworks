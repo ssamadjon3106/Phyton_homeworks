{
 "cells": [
  {
   "cell_type": "code",
   "execution_count": 1,
   "id": "998e8374",
   "metadata": {},
   "outputs": [
    {
     "name": "stdout",
     "output_type": "stream",
     "text": [
      "3\n"
     ]
    }
   ],
   "source": [
    "tup = (1, 2, 3, 1, 4, 1)\n",
    "element = 1\n",
    "count = tup.count(element)\n",
    "print(count)\n"
   ]
  },
  {
   "cell_type": "markdown",
   "id": "5ffaadea",
   "metadata": {},
   "source": [
    "tup = (1, 2, 3, 4, 5)\n",
    "max_element = max(tup)\n",
    "print(max_element)\n",
    "\n"
   ]
  },
  {
   "cell_type": "code",
   "execution_count": 2,
   "id": "32415ce8",
   "metadata": {},
   "outputs": [
    {
     "name": "stdout",
     "output_type": "stream",
     "text": [
      "1\n"
     ]
    }
   ],
   "source": [
    "tup = (1, 2, 3, 4, 5)\n",
    "min_element = min(tup)\n",
    "print(min_element)\n"
   ]
  },
  {
   "cell_type": "code",
   "execution_count": 3,
   "id": "3303a679",
   "metadata": {},
   "outputs": [
    {
     "name": "stdout",
     "output_type": "stream",
     "text": [
      "True\n"
     ]
    }
   ],
   "source": [
    "tup = (1, 2, 3, 4, 5)\n",
    "element = 3\n",
    "exists = element in tup\n",
    "print(exists)\n"
   ]
  },
  {
   "cell_type": "code",
   "execution_count": 4,
   "id": "19c48b11",
   "metadata": {},
   "outputs": [
    {
     "name": "stdout",
     "output_type": "stream",
     "text": [
      "1\n"
     ]
    }
   ],
   "source": [
    "tup = (1, 2, 3)\n",
    "first_element = tup[0] if tup else None\n",
    "print(first_element)\n"
   ]
  },
  {
   "cell_type": "code",
   "execution_count": 5,
   "id": "dfec14e9",
   "metadata": {},
   "outputs": [
    {
     "name": "stdout",
     "output_type": "stream",
     "text": [
      "3\n"
     ]
    }
   ],
   "source": [
    "tup = (1, 2, 3)\n",
    "last_element = tup[-1] if tup else None\n",
    "print(last_element)\n"
   ]
  },
  {
   "cell_type": "code",
   "execution_count": 6,
   "id": "c6ab3112",
   "metadata": {},
   "outputs": [
    {
     "name": "stdout",
     "output_type": "stream",
     "text": [
      "3\n"
     ]
    }
   ],
   "source": [
    "tup = (1, 2, 3)\n",
    "length = len(tup)\n",
    "print(length)\n"
   ]
  },
  {
   "cell_type": "code",
   "execution_count": 7,
   "id": "b7f11770",
   "metadata": {},
   "outputs": [
    {
     "name": "stdout",
     "output_type": "stream",
     "text": [
      "(1, 2, 3)\n"
     ]
    }
   ],
   "source": [
    "tup = (1, 2, 3, 4, 5)\n",
    "sliced_tup = tup[:3]\n",
    "print(sliced_tup)\n"
   ]
  },
  {
   "cell_type": "code",
   "execution_count": 8,
   "id": "7f426113",
   "metadata": {},
   "outputs": [
    {
     "name": "stdout",
     "output_type": "stream",
     "text": [
      "(1, 2, 3, 4)\n"
     ]
    }
   ],
   "source": [
    "tup1 = (1, 2)\n",
    "tup2 = (3, 4)\n",
    "concatenated = tup1 + tup2\n",
    "print(concatenated)\n"
   ]
  },
  {
   "cell_type": "code",
   "execution_count": 9,
   "id": "1d15f0fc",
   "metadata": {},
   "outputs": [
    {
     "name": "stdout",
     "output_type": "stream",
     "text": [
      "True\n"
     ]
    }
   ],
   "source": [
    "tup = ()\n",
    "is_empty = len(tup) == 0\n",
    "print(is_empty)\n"
   ]
  },
  {
   "cell_type": "code",
   "execution_count": 10,
   "id": "c0a6974e",
   "metadata": {},
   "outputs": [
    {
     "name": "stdout",
     "output_type": "stream",
     "text": [
      "[0, 3, 5]\n"
     ]
    }
   ],
   "source": [
    "tup = (1, 2, 3, 1, 4, 1)\n",
    "element = 1\n",
    "indices = [i for i, x in enumerate(tup) if x == element]\n",
    "print(indices)\n"
   ]
  },
  {
   "cell_type": "code",
   "execution_count": 11,
   "id": "df90f7cc",
   "metadata": {},
   "outputs": [
    {
     "name": "stdout",
     "output_type": "stream",
     "text": [
      "4\n"
     ]
    }
   ],
   "source": [
    "tup = (1, 2, 3, 4, 5)\n",
    "sorted_tup = sorted(set(tup), reverse=True)\n",
    "second_largest = sorted_tup[1] if len(sorted_tup) > 1 else None\n",
    "print(second_largest)\n"
   ]
  },
  {
   "cell_type": "code",
   "execution_count": 12,
   "id": "d210cf67",
   "metadata": {},
   "outputs": [
    {
     "name": "stdout",
     "output_type": "stream",
     "text": [
      "2\n"
     ]
    }
   ],
   "source": [
    "tup = (1, 2, 3, 4, 5)\n",
    "sorted_tup = sorted(set(tup))\n",
    "second_smallest = sorted_tup[1] if len(sorted_tup) > 1 else None\n",
    "print(second_smallest)\n"
   ]
  },
  {
   "cell_type": "code",
   "execution_count": 13,
   "id": "3e56f7d5",
   "metadata": {},
   "outputs": [
    {
     "name": "stdout",
     "output_type": "stream",
     "text": [
      "(5,)\n"
     ]
    }
   ],
   "source": [
    "element = 5\n",
    "single_element_tuple = (element,)\n",
    "print(single_element_tuple)\n"
   ]
  },
  {
   "cell_type": "code",
   "execution_count": 14,
   "id": "1dce6cd8",
   "metadata": {},
   "outputs": [
    {
     "name": "stdout",
     "output_type": "stream",
     "text": [
      "(1, 2, 3, 4)\n"
     ]
    }
   ],
   "source": [
    "lst = [1, 2, 3, 4]\n",
    "tuple_from_list = tuple(lst)\n",
    "print(tuple_from_list)\n"
   ]
  },
  {
   "cell_type": "code",
   "execution_count": 15,
   "id": "dc1e5cca",
   "metadata": {},
   "outputs": [
    {
     "name": "stdout",
     "output_type": "stream",
     "text": [
      "True\n"
     ]
    }
   ],
   "source": [
    "tup = (1, 2, 3, 4)\n",
    "is_sorted = tup == tuple(sorted(tup))\n",
    "print(is_sorted)\n"
   ]
  },
  {
   "cell_type": "code",
   "execution_count": 16,
   "id": "803d64c3",
   "metadata": {},
   "outputs": [
    {
     "name": "stdout",
     "output_type": "stream",
     "text": [
      "4\n"
     ]
    }
   ],
   "source": [
    "tup = (1, 2, 3, 4, 5)\n",
    "subtuple_max = max(tup[1:4])\n",
    "print(subtuple_max)\n"
   ]
  },
  {
   "cell_type": "code",
   "execution_count": 17,
   "id": "fa17bd66",
   "metadata": {},
   "outputs": [
    {
     "name": "stdout",
     "output_type": "stream",
     "text": [
      "2\n"
     ]
    }
   ],
   "source": [
    "tup = (1, 2, 3, 4, 5)\n",
    "subtuple_min = min(tup[1:4])\n",
    "print(subtuple_min)\n"
   ]
  },
  {
   "cell_type": "code",
   "execution_count": 18,
   "id": "0b59c9b6",
   "metadata": {},
   "outputs": [
    {
     "name": "stdout",
     "output_type": "stream",
     "text": [
      "(2, 3, 4)\n"
     ]
    }
   ],
   "source": [
    "tup = (1, 2, 3, 1, 4)\n",
    "element = 1\n",
    "modified_tup = tuple(x for x in tup if x != element)\n",
    "print(modified_tup)\n"
   ]
  },
  {
   "cell_type": "code",
   "execution_count": 19,
   "id": "5891fc6b",
   "metadata": {},
   "outputs": [
    {
     "name": "stdout",
     "output_type": "stream",
     "text": [
      "((1,), (2,), (3,))\n"
     ]
    }
   ],
   "source": [
    "tup = (1, 2, 3)\n",
    "nested_tup = tuple((x,) for x in tup)\n",
    "print(nested_tup)\n",
    "\n"
   ]
  },
  {
   "cell_type": "code",
   "execution_count": 20,
   "id": "0b74a752",
   "metadata": {},
   "outputs": [
    {
     "name": "stdout",
     "output_type": "stream",
     "text": [
      "(1, 1, 1, 2, 2, 2)\n"
     ]
    }
   ],
   "source": [
    "tup = (1, 2)\n",
    "n = 3\n",
    "repeated_tup = tuple(x for x in tup for _ in range(n))\n",
    "print(repeated_tup)\n"
   ]
  },
  {
   "cell_type": "code",
   "execution_count": 21,
   "id": "a958fb14",
   "metadata": {},
   "outputs": [
    {
     "name": "stdout",
     "output_type": "stream",
     "text": [
      "(1, 2, 3, 4, 5)\n"
     ]
    }
   ],
   "source": [
    "start = 1\n",
    "end = 6\n",
    "range_tup = tuple(range(start, end))\n",
    "print(range_tup)\n"
   ]
  },
  {
   "cell_type": "code",
   "execution_count": 22,
   "id": "2e2657f1",
   "metadata": {},
   "outputs": [
    {
     "name": "stdout",
     "output_type": "stream",
     "text": [
      "True\n"
     ]
    }
   ],
   "source": [
    "tup = (1, 2, 3, 2, 1)\n",
    "is_palindrome = tup == tup[::-1]\n",
    "print(is_palindrome)\n"
   ]
  },
  {
   "cell_type": "code",
   "execution_count": 23,
   "id": "028c074b",
   "metadata": {},
   "outputs": [
    {
     "name": "stdout",
     "output_type": "stream",
     "text": [
      "(1, 2, 3)\n"
     ]
    }
   ],
   "source": [
    "tup = (1, 2, 3, 2, 1)\n",
    "unique_elements = tuple(dict.fromkeys(tup))\n",
    "print(unique_elements)\n"
   ]
  },
  {
   "cell_type": "code",
   "execution_count": null,
   "id": "fb39e57f",
   "metadata": {},
   "outputs": [],
   "source": []
  }
 ],
 "metadata": {
  "kernelspec": {
   "display_name": ".venv",
   "language": "python",
   "name": "python3"
  },
  "language_info": {
   "codemirror_mode": {
    "name": "ipython",
    "version": 3
   },
   "file_extension": ".py",
   "mimetype": "text/x-python",
   "name": "python",
   "nbconvert_exporter": "python",
   "pygments_lexer": "ipython3",
   "version": "3.9.6"
  }
 },
 "nbformat": 4,
 "nbformat_minor": 5
}
