{
 "cells": [
  {
   "cell_type": "code",
   "execution_count": 1,
   "id": "3dc8223b",
   "metadata": {},
   "outputs": [
    {
     "name": "stdout",
     "output_type": "stream",
     "text": [
      "City: London\n",
      "Country not specified\n"
     ]
    }
   ],
   "source": [
    "# Sample dictionary\n",
    "person = {\n",
    "    'name': 'Alice',\n",
    "    'age': 28,\n",
    "    'city': 'London'\n",
    "}\n",
    "\n",
    "# Check if the key exists and get its value\n",
    "city = person.get('city')\n",
    "\n",
    "if city:\n",
    "    print(f\"City: {city}\")  # Output: City: London\n",
    "else:\n",
    "    print(\"City is not available.\")\n",
    "\n",
    "# Check for a non-existing key\n",
    "country = person.get('country', 'Country not specified')\n",
    "print(country)  # Output: Country not specified\n"
   ]
  },
  {
   "cell_type": "code",
   "execution_count": 3,
   "id": "71670d1a",
   "metadata": {},
   "outputs": [
    {
     "name": "stdout",
     "output_type": "stream",
     "text": [
      "the key 'name' is present \n"
     ]
    }
   ],
   "source": [
    "person = {\n",
    "    'name': 'Alice',\n",
    "    'age': 28,\n",
    "    'city': 'London'\n",
    "}\n",
    "if 'name' in person:\n",
    "    print(\"the key 'name' is present \")\n",
    "else:\n",
    "    print(\"the key 'name' is not present \")\n"
   ]
  },
  {
   "cell_type": "code",
   "execution_count": 6,
   "id": "753be641",
   "metadata": {},
   "outputs": [
    {
     "data": {
      "text/plain": [
       "3"
      ]
     },
     "execution_count": 6,
     "metadata": {},
     "output_type": "execute_result"
    }
   ],
   "source": [
    "person = {\n",
    "    'name': 'Alice',\n",
    "    'age': 28,\n",
    "    'city': 'London'\n",
    "}\n",
    "keys_count= len(person)\n",
    "keys_count\n"
   ]
  },
  {
   "cell_type": "code",
   "execution_count": 7,
   "id": "1497aed3",
   "metadata": {},
   "outputs": [
    {
     "data": {
      "text/plain": [
       "['name', 'age', 'city']"
      ]
     },
     "execution_count": 7,
     "metadata": {},
     "output_type": "execute_result"
    }
   ],
   "source": [
    "person = {\n",
    "    'name': 'Alice',\n",
    "    'age': 28,\n",
    "    'city': 'London'\n",
    "}\n",
    "\n",
    "list(person.keys())"
   ]
  },
  {
   "cell_type": "code",
   "execution_count": 8,
   "id": "6f25db21",
   "metadata": {},
   "outputs": [
    {
     "data": {
      "text/plain": [
       "['Alice', 28, 'London']"
      ]
     },
     "execution_count": 8,
     "metadata": {},
     "output_type": "execute_result"
    }
   ],
   "source": [
    "person = {\n",
    "    'name': 'Alice',\n",
    "    'age': 28,\n",
    "    'city': 'London'\n",
    "}\n",
    "\n",
    "list(person.values())"
   ]
  },
  {
   "cell_type": "code",
   "execution_count": 11,
   "id": "cd0e03e6",
   "metadata": {},
   "outputs": [
    {
     "data": {
      "text/plain": [
       "{'name': 'Alice', 'age': 123, 'city': 'London', 'surname': 'dsadsa'}"
      ]
     },
     "execution_count": 11,
     "metadata": {},
     "output_type": "execute_result"
    }
   ],
   "source": [
    "person = {\n",
    "    'name': 'Alice',\n",
    "    'age': 28,\n",
    "    'city': 'London'\n",
    "}\n",
    "\n",
    "friend={\n",
    "    'surname' : 'dsadsa', \n",
    "    'age' : 123\n",
    "\n",
    "}\n",
    "person.update(friend)\n",
    "person"
   ]
  },
  {
   "cell_type": "code",
   "execution_count": 13,
   "id": "d604c2b7",
   "metadata": {},
   "outputs": [],
   "source": [
    "person = {\n",
    "    'name': 'Alice',\n",
    "    'age': 28,\n",
    "    'city': 'London'\n",
    "}\n",
    "\n",
    "if 'name' in person:\n",
    "    del person['name']\n",
    "else:\n",
    "    print('that key does not exist')\n",
    "\n",
    "\n"
   ]
  },
  {
   "cell_type": "code",
   "execution_count": 14,
   "id": "26ff2ace",
   "metadata": {},
   "outputs": [],
   "source": [
    "person = {\n",
    "    'name': 'Alice',\n",
    "    'age': 28,\n",
    "    'city': 'London'\n",
    "}\n",
    "person.clear()"
   ]
  },
  {
   "cell_type": "code",
   "execution_count": 17,
   "id": "2766736f",
   "metadata": {},
   "outputs": [
    {
     "name": "stdout",
     "output_type": "stream",
     "text": [
      "it has elements\n"
     ]
    }
   ],
   "source": [
    "person = {\n",
    "    'name': 'Alice',\n",
    "    'age': 28,\n",
    "    'city': 'London'\n",
    "}\n",
    "\n",
    "if person:\n",
    "    print('it has elements')\n",
    "else:\n",
    "    print('dict is empty')    "
   ]
  },
  {
   "cell_type": "code",
   "execution_count": 18,
   "id": "14bc9a72",
   "metadata": {},
   "outputs": [
    {
     "data": {
      "text/plain": [
       "dict_items([('name', 'Alice'), ('age', 28), ('city', 'London')])"
      ]
     },
     "execution_count": 18,
     "metadata": {},
     "output_type": "execute_result"
    }
   ],
   "source": [
    "person = {\n",
    "    'name': 'Alice',\n",
    "    'age': 28,\n",
    "    'city': 'London'\n",
    "}\n",
    "person.items()"
   ]
  },
  {
   "cell_type": "code",
   "execution_count": 25,
   "id": "a1a56882",
   "metadata": {},
   "outputs": [
    {
     "data": {
      "text/plain": [
       "{'name': 'Bob', 'age': 28, 'city': 'London'}"
      ]
     },
     "execution_count": 25,
     "metadata": {},
     "output_type": "execute_result"
    }
   ],
   "source": [
    "person = {\n",
    "    'name': 'Alice',\n",
    "    'age': 28,\n",
    "    'city': 'London'\n",
    "}\n",
    "\n",
    "person.update({'name': 'Bob'})\n",
    "person"
   ]
  },
  {
   "cell_type": "code",
   "execution_count": 34,
   "id": "82a68c16",
   "metadata": {},
   "outputs": [
    {
     "data": {
      "text/plain": [
       "2"
      ]
     },
     "execution_count": 34,
     "metadata": {},
     "output_type": "execute_result"
    }
   ],
   "source": [
    "person = {\n",
    "    'name': 'Alice',\n",
    "    'age': 28,\n",
    "    'city': 'London',\n",
    "    'region': 'London'\n",
    "}\n",
    "\n",
    "vount=0\n",
    "for value in person.values():\n",
    "    if value=='London':\n",
    "        vount += 1\n",
    "\n",
    "vount        "
   ]
  },
  {
   "cell_type": "code",
   "execution_count": 35,
   "id": "3b94cc9e",
   "metadata": {},
   "outputs": [
    {
     "data": {
      "text/plain": [
       "{'Alice': 'name', 28: 'age', 'London': 'city'}"
      ]
     },
     "execution_count": 35,
     "metadata": {},
     "output_type": "execute_result"
    }
   ],
   "source": [
    "person = {\n",
    "    'name': 'Alice',\n",
    "    'age': 28,\n",
    "    'city': 'London'\n",
    "}\n",
    "\n",
    "swap_person={value: key for key, value in person.items()}\n",
    "swap_person"
   ]
  },
  {
   "cell_type": "code",
   "execution_count": null,
   "id": "69b497d0",
   "metadata": {},
   "outputs": [
    {
     "data": {
      "text/plain": [
       "['name']"
      ]
     },
     "execution_count": 39,
     "metadata": {},
     "output_type": "execute_result"
    }
   ],
   "source": [
    "person = {\n",
    "    'name': 'Alice',\n",
    "    'age': 28,\n",
    "    'city': 'London'\n",
    "}\n",
    "\n",
    "value='Alice'\n",
    "\n",
    "keys_value=[]\n",
    "for key, val in person.items():\n",
    "    if val==value:\n",
    "       keys_value.append(key)\n",
    "\n",
    "keys_value       \n"
   ]
  },
  {
   "cell_type": "code",
   "execution_count": 42,
   "id": "a2196142",
   "metadata": {},
   "outputs": [
    {
     "data": {
      "text/plain": [
       "{'name': 'Samadjon', 'age': '19'}"
      ]
     },
     "execution_count": 42,
     "metadata": {},
     "output_type": "execute_result"
    }
   ],
   "source": [
    "keys=['name', 'age']\n",
    "values=['Samadjon', '19']\n",
    "pair= dict(zip(keys, values))\n",
    "pair"
   ]
  },
  {
   "cell_type": "code",
   "execution_count": 43,
   "id": "4606c8c6",
   "metadata": {},
   "outputs": [
    {
     "name": "stdout",
     "output_type": "stream",
     "text": [
      "this dictionary contains a nested dictionary\n"
     ]
    }
   ],
   "source": [
    "person = {\n",
    "    'name': 'Alice',\n",
    "    'age': 28,\n",
    "    'city': {\n",
    "        'Street':'London 12'\n",
    "    }\n",
    "}\n",
    "if any(isinstance(value, dict) for value in person.values()):\n",
    "    print(\"this dictionary contains a nested dictionary\")\n",
    "else:\n",
    "     print(\"this dictionary dooesn't contain a nested dictionary\")  "
   ]
  },
  {
   "cell_type": "code",
   "execution_count": 49,
   "id": "9206d8d0",
   "metadata": {},
   "outputs": [
    {
     "data": {
      "text/plain": [
       "'London 12'"
      ]
     },
     "execution_count": 49,
     "metadata": {},
     "output_type": "execute_result"
    }
   ],
   "source": [
    "person = {\n",
    "    'name': 'Alice',\n",
    "    'age': 28,\n",
    "    'city': {\n",
    "        'Street':'London 12'\n",
    "    }\n",
    "}\n",
    "city=person.get('city')\n",
    "street=city.get('Street')\n",
    "street"
   ]
  },
  {
   "cell_type": "code",
   "execution_count": 53,
   "id": "e7a8ff57",
   "metadata": {},
   "outputs": [
    {
     "name": "stdout",
     "output_type": "stream",
     "text": [
      "[]\n",
      "['apple', 'banana']\n"
     ]
    }
   ],
   "source": [
    "from collections import defaultdict\n",
    "\n",
    "# Create a defaultdict with list as the default_factory (defaults to an empty list)\n",
    "d = defaultdict(list)\n",
    "\n",
    "# Accessing a missing key will return an empty list (default)\n",
    "print(d['missing_key'])  # Output: []\n",
    "\n",
    "# Adding items to the list for a specific key\n",
    "d['fruits'].append('apple')\n",
    "d['fruits'].append('banana')\n",
    "\n",
    "print(d['fruits'])  # Output: ['apple', 'banana']\n"
   ]
  },
  {
   "cell_type": "code",
   "execution_count": 1,
   "id": "117286b1",
   "metadata": {},
   "outputs": [
    {
     "name": "stdout",
     "output_type": "stream",
     "text": [
      "3\n"
     ]
    }
   ],
   "source": [
    "person = {\n",
    "    'name': 'Alice',\n",
    "    'age': 28,\n",
    "    'city': 'London'\n",
    "}\n",
    "\n",
    "# Get all values from the dictionary\n",
    "values = person.values()\n",
    "\n",
    "# Convert the values to a set to remove duplicates and count the unique values\n",
    "unique = len(set(values))\n",
    "\n",
    "# Print the number of unique values\n",
    "print(unique)\n"
   ]
  },
  {
   "cell_type": "code",
   "execution_count": 4,
   "id": "7c752626",
   "metadata": {},
   "outputs": [
    {
     "data": {
      "text/plain": [
       "[('age', 28), ('city', 'London'), ('name', 'Alice')]"
      ]
     },
     "execution_count": 4,
     "metadata": {},
     "output_type": "execute_result"
    }
   ],
   "source": [
    "person = {\n",
    "    'name': 'Alice',\n",
    "    'age': 28,\n",
    "    'city': 'London'\n",
    "}\n",
    "\n",
    "keys= sorted(person.items())\n",
    "keys"
   ]
  },
  {
   "cell_type": "code",
   "execution_count": 11,
   "id": "df191b0f",
   "metadata": {},
   "outputs": [
    {
     "data": {
      "text/plain": [
       "[('name', 'Alice'), ('city', 'London'), ('age', 'dsa')]"
      ]
     },
     "execution_count": 11,
     "metadata": {},
     "output_type": "execute_result"
    }
   ],
   "source": [
    "person = {\n",
    "    'name': 'Alice',\n",
    "    'age': 'dsa',\n",
    "    'city': 'London'\n",
    "}\n",
    "\n",
    "values= sorted(person.items(), key=lambda item:item[1])\n",
    "\n",
    "values"
   ]
  },
  {
   "cell_type": "code",
   "execution_count": 17,
   "id": "2509d3c6",
   "metadata": {},
   "outputs": [
    {
     "name": "stdout",
     "output_type": "stream",
     "text": [
      "same\n"
     ]
    }
   ],
   "source": [
    "person = {\n",
    "    'name': 'name',\n",
    "    'age': 'age',\n",
    "    'city': 'city'\n",
    "}\n",
    "\n",
    "if sorted(person.values())== sorted(person.keys()):\n",
    "   print('same')\n",
    "else:\n",
    "    print('not same')    \n"
   ]
  },
  {
   "cell_type": "code",
   "execution_count": 19,
   "id": "72600169",
   "metadata": {},
   "outputs": [
    {
     "name": "stdout",
     "output_type": "stream",
     "text": [
      "keys are same\n"
     ]
    }
   ],
   "source": [
    "person = {\n",
    "    'name': 'name',\n",
    "    'age': 'age',\n",
    "    'city': 'city'\n",
    "}\n",
    "info = {\n",
    "    'name': 'Alice',\n",
    "    'age': 'dsa',\n",
    "    'city': 'London'\n",
    "}\n",
    "\n",
    "if sorted(person.keys())==sorted(info.keys()):\n",
    "    print('keys are same')\n",
    "else:\n",
    "    print('not same')\n",
    "    \n",
    "        "
   ]
  },
  {
   "cell_type": "code",
   "execution_count": 20,
   "id": "c2b2c4f8",
   "metadata": {},
   "outputs": [
    {
     "data": {
      "text/plain": [
       "{'name': 'Samadjon', 'age': '19'}"
      ]
     },
     "execution_count": 20,
     "metadata": {},
     "output_type": "execute_result"
    }
   ],
   "source": [
    "\n",
    "keys=('name', 'age')\n",
    "values=('Samadjon', '19')\n",
    "pair= dict(zip(keys, values))\n",
    "pair"
   ]
  },
  {
   "cell_type": "code",
   "execution_count": 24,
   "id": "7eef26f0",
   "metadata": {},
   "outputs": [
    {
     "data": {
      "text/plain": [
       "('name', 'Alice')"
      ]
     },
     "execution_count": 24,
     "metadata": {},
     "output_type": "execute_result"
    }
   ],
   "source": [
    "info = {\n",
    "    'name': 'Alice',\n",
    "    'age': 'dsa',\n",
    "    'city': 'London'\n",
    "}\n",
    "\n",
    "first= next(iter(info.items()))\n",
    "first"
   ]
  },
  {
   "cell_type": "code",
   "execution_count": null,
   "id": "c23b1111",
   "metadata": {},
   "outputs": [],
   "source": []
  }
 ],
 "metadata": {
  "kernelspec": {
   "display_name": ".venv",
   "language": "python",
   "name": "python3"
  },
  "language_info": {
   "codemirror_mode": {
    "name": "ipython",
    "version": 3
   },
   "file_extension": ".py",
   "mimetype": "text/x-python",
   "name": "python",
   "nbconvert_exporter": "python",
   "pygments_lexer": "ipython3",
   "version": "3.9.6"
  }
 },
 "nbformat": 4,
 "nbformat_minor": 5
}
