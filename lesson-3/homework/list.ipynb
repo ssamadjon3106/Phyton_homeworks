{
 "cells": [
  {
   "cell_type": "code",
   "execution_count": null,
   "id": "f7048acc",
   "metadata": {},
   "outputs": [
    {
     "data": {
      "text/plain": [
       "3"
      ]
     },
     "execution_count": 2,
     "metadata": {},
     "output_type": "execute_result"
    }
   ],
   "source": [
    "a=[1, 2, 3, 5, 5, 5, 7]\n",
    "a.count(5)\n"
   ]
  },
  {
   "cell_type": "code",
   "execution_count": 8,
   "id": "1b081fa4",
   "metadata": {},
   "outputs": [
    {
     "name": "stdout",
     "output_type": "stream",
     "text": [
      "Sum of elements: 15\n"
     ]
    }
   ],
   "source": [
    "# List of numbers\n",
    "numbers = [1, 2, 3, 4, 5]\n",
    "\n",
    "# Calculate the sum of all elements\n",
    "total = sum(numbers)\n",
    "\n",
    "# Print the result\n",
    "print(\"Sum of elements:\", total)\n"
   ]
  },
  {
   "cell_type": "code",
   "execution_count": 11,
   "id": "4ac57fc8",
   "metadata": {},
   "outputs": [
    {
     "name": "stdout",
     "output_type": "stream",
     "text": [
      "5\n"
     ]
    }
   ],
   "source": [
    "numbers = [1, 2, 3, 4, 5]\n",
    "maximum=max(numbers)\n",
    "print(maximum)"
   ]
  },
  {
   "cell_type": "code",
   "execution_count": 12,
   "id": "b933e68b",
   "metadata": {},
   "outputs": [
    {
     "name": "stdout",
     "output_type": "stream",
     "text": [
      "1\n"
     ]
    }
   ],
   "source": [
    "numbers = [1, 2, 3, 4, 5]\n",
    "maximum=min(numbers)\n",
    "print(maximum)"
   ]
  },
  {
   "cell_type": "code",
   "execution_count": 14,
   "id": "b458b414",
   "metadata": {},
   "outputs": [
    {
     "name": "stdout",
     "output_type": "stream",
     "text": [
      "3 is on list\n"
     ]
    }
   ],
   "source": [
    "numbers = [1, 2, 3, 4, 5]\n",
    "element =3\n",
    "if element in numbers:\n",
    "    print(f'{element} is on list')\n",
    "else: \n",
    "    print(f'{element} is not on list')    "
   ]
  },
  {
   "cell_type": "code",
   "execution_count": 16,
   "id": "3f2a5977",
   "metadata": {},
   "outputs": [
    {
     "data": {
      "text/plain": [
       "1"
      ]
     },
     "execution_count": 16,
     "metadata": {},
     "output_type": "execute_result"
    }
   ],
   "source": [
    "numbers = [1, 2, 3, 4, 5]\n",
    "numbers[0]"
   ]
  },
  {
   "cell_type": "code",
   "execution_count": 17,
   "id": "33dbdf97",
   "metadata": {},
   "outputs": [
    {
     "data": {
      "text/plain": [
       "5"
      ]
     },
     "execution_count": 17,
     "metadata": {},
     "output_type": "execute_result"
    }
   ],
   "source": [
    "numbers = [1, 2, 3, 4, 5]\n",
    "numbers[-1]"
   ]
  },
  {
   "cell_type": "code",
   "execution_count": 19,
   "id": "8a885e7b",
   "metadata": {},
   "outputs": [
    {
     "data": {
      "text/plain": [
       "[1, 2, 3]"
      ]
     },
     "execution_count": 19,
     "metadata": {},
     "output_type": "execute_result"
    }
   ],
   "source": [
    "numbers = [1, 2, 3, 4, 5]\n",
    "numbers[:3]"
   ]
  },
  {
   "cell_type": "code",
   "execution_count": 24,
   "id": "25249910",
   "metadata": {},
   "outputs": [
    {
     "data": {
      "text/plain": [
       "[5, 4, 3, 2, 1]"
      ]
     },
     "execution_count": 24,
     "metadata": {},
     "output_type": "execute_result"
    }
   ],
   "source": [
    "numbers = [1, 2, 3, 4, 5]\n",
    "numbers[::-1]\n"
   ]
  },
  {
   "cell_type": "code",
   "execution_count": 27,
   "id": "a852594b",
   "metadata": {},
   "outputs": [
    {
     "name": "stdout",
     "output_type": "stream",
     "text": [
      "[1, 2, 3, 4, 5]\n"
     ]
    }
   ],
   "source": [
    "numbers = [2, 1, 3, 4,5]\n",
    "numbers.sort()\n",
    "print(numbers)"
   ]
  },
  {
   "cell_type": "code",
   "execution_count": 29,
   "id": "68162bf9",
   "metadata": {},
   "outputs": [
    {
     "data": {
      "text/plain": [
       "[1, 2, 3, 4, 5, 6]"
      ]
     },
     "execution_count": 29,
     "metadata": {},
     "output_type": "execute_result"
    }
   ],
   "source": [
    "numbers = [2, 1,5, 6, 6, 3, 4,5]\n",
    "list(set(numbers))\n"
   ]
  },
  {
   "cell_type": "code",
   "execution_count": 34,
   "id": "20ebc30d",
   "metadata": {},
   "outputs": [
    {
     "data": {
      "text/plain": [
       "[2, 1, 5, 6, 6, 3, 4, 5, 9]"
      ]
     },
     "execution_count": 34,
     "metadata": {},
     "output_type": "execute_result"
    }
   ],
   "source": [
    "numbers = [2, 1,5, 6, 6, 3, 4,5]\n",
    "numbers.insert(12, 9)\n",
    "numbers"
   ]
  },
  {
   "cell_type": "code",
   "execution_count": 37,
   "id": "6f9ebfd0",
   "metadata": {},
   "outputs": [
    {
     "data": {
      "text/plain": [
       "4"
      ]
     },
     "execution_count": 37,
     "metadata": {},
     "output_type": "execute_result"
    }
   ],
   "source": [
    "numbers = [2, 1, 3, 4,5]\n",
    "numbers.index(5)"
   ]
  },
  {
   "cell_type": "code",
   "execution_count": 39,
   "id": "9ef0cf4d",
   "metadata": {},
   "outputs": [
    {
     "name": "stdout",
     "output_type": "stream",
     "text": [
      "True\n"
     ]
    }
   ],
   "source": [
    "a=[]\n",
    "\n",
    "empty= not a\n",
    "print(empty)"
   ]
  },
  {
   "cell_type": "code",
   "execution_count": 49,
   "id": "4f24d398",
   "metadata": {},
   "outputs": [
    {
     "name": "stdout",
     "output_type": "stream",
     "text": [
      "4\n"
     ]
    }
   ],
   "source": [
    "\n",
    "numbers = [2, 1, 5, 6, 6, 3, 4, 5]\n",
    "\n",
    "\n",
    "even_count = 0\n",
    "\n",
    "for number in numbers:\n",
    "    if number % 2 == 0:\n",
    "        even_count += 1\n",
    "\n",
    "print(even_count)\n"
   ]
  },
  {
   "cell_type": "code",
   "execution_count": null,
   "id": "88de73bd",
   "metadata": {},
   "outputs": [
    {
     "name": "stdout",
     "output_type": "stream",
     "text": [
      "4\n"
     ]
    }
   ],
   "source": [
    "\n",
    "numbers = [2, 1, 5, 6, 6, 3, 4, 5]\n",
    "\n",
    "\n",
    "odd_count = 0\n",
    "\n",
    "for number in numbers:\n",
    "    if number % 2 != 0:\n",
    "        odd_count += 1\n",
    "\n",
    "print(odd_count)\n"
   ]
  },
  {
   "cell_type": "code",
   "execution_count": 54,
   "id": "bcd5dd10",
   "metadata": {},
   "outputs": [
    {
     "name": "stdout",
     "output_type": "stream",
     "text": [
      "['332', 'dwefssa', 'safasd', 'weafads', 'sadfdsa', '32123']\n"
     ]
    }
   ],
   "source": [
    "a=['332', 'dwefssa', 'safasd']\n",
    "b=['weafads', 'sadfdsa', '32123']\n",
    "total= a+b\n",
    "print(total)\n"
   ]
  },
  {
   "cell_type": "code",
   "execution_count": 60,
   "id": "f7a0242b",
   "metadata": {},
   "outputs": [
    {
     "name": "stdout",
     "output_type": "stream",
     "text": [
      "3 is on list\n"
     ]
    }
   ],
   "source": [
    "numbers = [2, 1, 5, 6, 6, 3, 4, 5]\n",
    "sublist=3\n",
    "\n",
    "if  sublist in numbers:\n",
    "    print(f'{sublist} is on list')\n",
    "else:\n",
    "    print(f'{sublist} is not on list')    "
   ]
  },
  {
   "cell_type": "code",
   "execution_count": 64,
   "id": "f7afc24f",
   "metadata": {},
   "outputs": [
    {
     "name": "stdout",
     "output_type": "stream",
     "text": [
      "[2, 1, 100, 6, 6, 3, 4, 5]\n"
     ]
    }
   ],
   "source": [
    "numbers = [2, 1, 5, 6, 6, 3, 4, 5]\n",
    "old_value=5\n",
    "new_value=100\n",
    "if old_value in numbers:\n",
    "   \n",
    "    index=numbers.index(old_value)\n",
    "    numbers[index]=new_value\n",
    "    print(numbers)"
   ]
  },
  {
   "cell_type": "code",
   "execution_count": 67,
   "id": "19ffffb5",
   "metadata": {},
   "outputs": [
    {
     "name": "stdout",
     "output_type": "stream",
     "text": [
      "5\n"
     ]
    }
   ],
   "source": [
    "numbers = [2, 1, 5, 6, 3, 4, 5]\n",
    "\n",
    "numbers.remove(max(numbers))\n",
    "b= max(numbers)\n",
    "print(b)\n"
   ]
  },
  {
   "cell_type": "code",
   "execution_count": 68,
   "id": "ee8b144c",
   "metadata": {},
   "outputs": [
    {
     "name": "stdout",
     "output_type": "stream",
     "text": [
      "2\n"
     ]
    }
   ],
   "source": [
    "numbers = [2, 1, 5, 6, 3, 4, 5]\n",
    "\n",
    "numbers.remove(min(numbers))\n",
    "b= min(numbers)\n",
    "print(b)"
   ]
  },
  {
   "cell_type": "code",
   "execution_count": 69,
   "id": "1d705a96",
   "metadata": {},
   "outputs": [
    {
     "name": "stdout",
     "output_type": "stream",
     "text": [
      "2\n",
      "6\n",
      "4\n"
     ]
    }
   ],
   "source": [
    "numbers = [2, 1, 5, 6, 3, 4, 5]\n",
    "\n",
    "for element in numbers:\n",
    "  if element %2==0:\n",
    "    print(element)"
   ]
  },
  {
   "cell_type": "code",
   "execution_count": 70,
   "id": "5f382051",
   "metadata": {},
   "outputs": [
    {
     "name": "stdout",
     "output_type": "stream",
     "text": [
      "1\n",
      "5\n",
      "3\n",
      "5\n"
     ]
    }
   ],
   "source": [
    "numbers = [2, 1, 5, 6, 3, 4, 5]\n",
    "\n",
    "for element in numbers:\n",
    "  if element %2!=0:\n",
    "    print(element)"
   ]
  },
  {
   "cell_type": "code",
   "execution_count": 71,
   "id": "a607f91b",
   "metadata": {},
   "outputs": [
    {
     "data": {
      "text/plain": [
       "7"
      ]
     },
     "execution_count": 71,
     "metadata": {},
     "output_type": "execute_result"
    }
   ],
   "source": [
    "numbers = [2, 1, 5, 6, 3, 4, 5]\n",
    "len(numbers)"
   ]
  },
  {
   "cell_type": "code",
   "execution_count": 73,
   "id": "26343df4",
   "metadata": {},
   "outputs": [
    {
     "data": {
      "text/plain": [
       "[2, 1, 5, 6, 3, 4, 5]"
      ]
     },
     "execution_count": 73,
     "metadata": {},
     "output_type": "execute_result"
    }
   ],
   "source": [
    "numbers = [2, 1, 5, 6, 3, 4, 5]\n",
    "numbers.copy()"
   ]
  },
  {
   "cell_type": "code",
   "execution_count": 77,
   "id": "c710f3c2",
   "metadata": {},
   "outputs": [
    {
     "name": "stdout",
     "output_type": "stream",
     "text": [
      "[5, 6]\n"
     ]
    }
   ],
   "source": [
    "numbers = [2, 1, 5, 6, 3, 4, 5]\n",
    "middle_index = len(numbers)//2\n",
    "if len(numbers)//2==1:\n",
    "    middle_element=numbers[middle_element]\n",
    "    print(middle_element)\n",
    "else:\n",
    "    middle_elements =numbers[middle_index-1 : middle_index+1]\n",
    "    print(middle_elements)    "
   ]
  },
  {
   "cell_type": "code",
   "execution_count": null,
   "id": "edffb680",
   "metadata": {},
   "outputs": [
    {
     "name": "stdout",
     "output_type": "stream",
     "text": [
      "Maximum value in the sublist: 6\n"
     ]
    }
   ],
   "source": [
    "numbers = [2, 1, 5, 6, 3, 4, 5]\n",
    "start= 2\n",
    "end=5\n",
    "sublist= numbers[start: end]\n",
    "max_value=max(sublist)\n",
    "print(max_value)\n"
   ]
  },
  {
   "cell_type": "code",
   "execution_count": 83,
   "id": "8ed8dd5b",
   "metadata": {},
   "outputs": [
    {
     "name": "stdout",
     "output_type": "stream",
     "text": [
      "3\n"
     ]
    }
   ],
   "source": [
    "numbers = [2, 1, 5, 6, 3, 4, 5]\n",
    "start= 2\n",
    "end=5\n",
    "sublist= numbers[start: end]\n",
    "min_value=min(sublist)\n",
    "print(min_value)\n"
   ]
  },
  {
   "cell_type": "code",
   "execution_count": 94,
   "id": "d65f6a66",
   "metadata": {},
   "outputs": [
    {
     "name": "stdout",
     "output_type": "stream",
     "text": [
      "6\n"
     ]
    }
   ],
   "source": [
    "numbers = [2, 1, 5, 6, 3, 4, 5]\n",
    "index =3\n",
    "if 0<=index< len(numbers):\n",
    "    removed_element=numbers.pop(index)\n",
    "    print(removed_element)\n",
    "else:\n",
    "    print(f'{index} is out of range')    \n",
    "\n"
   ]
  },
  {
   "cell_type": "code",
   "execution_count": 95,
   "id": "2232c86c",
   "metadata": {},
   "outputs": [
    {
     "data": {
      "text/plain": [
       "[1, 2, 3, 4, 5, 5, 6]"
      ]
     },
     "execution_count": 95,
     "metadata": {},
     "output_type": "execute_result"
    }
   ],
   "source": [
    "numbers = [2, 1, 5, 6, 3, 4, 5]\n",
    "sorted(numbers)"
   ]
  },
  {
   "cell_type": "code",
   "execution_count": 97,
   "id": "59c84ce1",
   "metadata": {},
   "outputs": [
    {
     "name": "stdout",
     "output_type": "stream",
     "text": [
      "[2, 2, 1, 5, 5, 5, 5, 5, 6, 6, 6, 6, 6, 6, 3, 3, 3, 4, 4, 4, 4, 5, 5, 5, 5, 5]\n"
     ]
    }
   ],
   "source": [
    "numbers = [2, 1, 5, 6, 3, 4, 5]\n",
    "repeated_list=[element for element in numbers for _ in range(element)]\n",
    "print(repeated_list)"
   ]
  },
  {
   "cell_type": "code",
   "execution_count": 99,
   "id": "554c72c2",
   "metadata": {},
   "outputs": [
    {
     "data": {
      "text/plain": [
       "[0, 1, 1, 2, 3, 3, 4, 4, 5, 6, 6, 45, 54, 56]"
      ]
     },
     "execution_count": 99,
     "metadata": {},
     "output_type": "execute_result"
    }
   ],
   "source": [
    "numbers = [2, 1, 5, 6, 3, 4, 6]\n",
    "numbers1 = [4, 1, 45, 56, 3, 54,0]\n",
    "merged= numbers+numbers1\n",
    "sort_list=sorted(merged)\n",
    "sort_list\n"
   ]
  },
  {
   "cell_type": "code",
   "execution_count": 104,
   "id": "eae2a145",
   "metadata": {},
   "outputs": [
    {
     "name": "stdout",
     "output_type": "stream",
     "text": [
      "[3, 6]\n"
     ]
    }
   ],
   "source": [
    "numbers = [2, 1, 5, 6, 3, 4, 6]\n",
    "element= 6\n",
    "indices=[]\n",
    "for i in range(len(numbers)):\n",
    "    if numbers[i]==element:\n",
    "        indices.append(i)\n",
    "\n",
    "\n",
    "print(indices)\n"
   ]
  },
  {
   "cell_type": "code",
   "execution_count": 106,
   "id": "f8615d85",
   "metadata": {},
   "outputs": [
    {
     "name": "stdout",
     "output_type": "stream",
     "text": [
      "[4, 6, 2, 1, 5, 6, 3]\n"
     ]
    }
   ],
   "source": [
    "numbers = [2, 1, 5, 6, 3, 4, 6]\n",
    "rotate_by=2\n",
    "rotated_list=numbers[-rotate_by:]+numbers[:-rotate_by]\n",
    "print(rotated_list)"
   ]
  },
  {
   "cell_type": "code",
   "execution_count": null,
   "id": "9d418970",
   "metadata": {},
   "outputs": [],
   "source": []
  },
  {
   "cell_type": "code",
   "execution_count": null,
   "id": "a4294b93",
   "metadata": {},
   "outputs": [],
   "source": []
  }
 ],
 "metadata": {
  "kernelspec": {
   "display_name": ".venv",
   "language": "python",
   "name": "python3"
  },
  "language_info": {
   "codemirror_mode": {
    "name": "ipython",
    "version": 3
   },
   "file_extension": ".py",
   "mimetype": "text/x-python",
   "name": "python",
   "nbconvert_exporter": "python",
   "pygments_lexer": "ipython3",
   "version": "3.9.6"
  }
 },
 "nbformat": 4,
 "nbformat_minor": 5
}
