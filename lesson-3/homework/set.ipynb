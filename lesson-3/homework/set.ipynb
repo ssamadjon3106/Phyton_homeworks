{
 "cells": [
  {
   "cell_type": "code",
   "execution_count": 2,
   "id": "3bff4bc1",
   "metadata": {},
   "outputs": [
    {
     "data": {
      "text/plain": [
       "{1, 2, 3, 4, 5, 6, 7, 8}"
      ]
     },
     "execution_count": 2,
     "metadata": {},
     "output_type": "execute_result"
    }
   ],
   "source": [
    "a={1, 2, 3, 4, 5}\n",
    "b={4, 3, 5, 6, 7,8,3 }\n",
    "ste_union= a | b\n",
    "ste_union\n"
   ]
  },
  {
   "cell_type": "code",
   "execution_count": null,
   "id": "884b7594",
   "metadata": {},
   "outputs": [
    {
     "data": {
      "text/plain": [
       "{3, 4, 5}"
      ]
     },
     "execution_count": 3,
     "metadata": {},
     "output_type": "execute_result"
    }
   ],
   "source": [
    "a={1, 2, 3, 4, 5}\n",
    "b={4, 3, 5, 6, 7,8,3 }\n",
    "intersection= a & b\n",
    "intersection"
   ]
  },
  {
   "cell_type": "code",
   "execution_count": 4,
   "id": "d9636afd",
   "metadata": {},
   "outputs": [
    {
     "data": {
      "text/plain": [
       "{1, 2}"
      ]
     },
     "execution_count": 4,
     "metadata": {},
     "output_type": "execute_result"
    }
   ],
   "source": [
    "a={1, 2, 3, 4, 5}\n",
    "b={4, 3, 5, 6, 7,8,3 }\n",
    "difference= a-b\n",
    "difference\n"
   ]
  },
  {
   "cell_type": "code",
   "execution_count": 6,
   "id": "746dbc70",
   "metadata": {},
   "outputs": [
    {
     "data": {
      "text/plain": [
       "False"
      ]
     },
     "execution_count": 6,
     "metadata": {},
     "output_type": "execute_result"
    }
   ],
   "source": [
    "a={1, 2, 3, 4, 5}\n",
    "b={4, 3, 5, 6, 7,8,3 }\n",
    "is_subset=a.issubset(b)\n",
    "is_subset"
   ]
  },
  {
   "cell_type": "code",
   "execution_count": 7,
   "id": "394f7ed1",
   "metadata": {},
   "outputs": [
    {
     "name": "stdout",
     "output_type": "stream",
     "text": [
      "True\n"
     ]
    }
   ],
   "source": [
    "a={1, 2, 3, 4, 5}\n",
    "print(2 in a)"
   ]
  },
  {
   "cell_type": "code",
   "execution_count": 8,
   "id": "6161fa01",
   "metadata": {},
   "outputs": [
    {
     "data": {
      "text/plain": [
       "5"
      ]
     },
     "execution_count": 8,
     "metadata": {},
     "output_type": "execute_result"
    }
   ],
   "source": [
    "a={1, 2, 3, 4, 5}\n",
    "len(a)"
   ]
  },
  {
   "cell_type": "code",
   "execution_count": 10,
   "id": "185eef70",
   "metadata": {},
   "outputs": [
    {
     "data": {
      "text/plain": [
       "{1, 2, 3, 4, 5, 7, 31, 45}"
      ]
     },
     "execution_count": 10,
     "metadata": {},
     "output_type": "execute_result"
    }
   ],
   "source": [
    "a=(1, 2, 3, 4, 5, 2, 3, 2, 1, 31,45, 5, 7)\n",
    "b=set(a)\n",
    "b"
   ]
  },
  {
   "cell_type": "code",
   "execution_count": 13,
   "id": "f3997085",
   "metadata": {},
   "outputs": [
    {
     "data": {
      "text/plain": [
       "{1, 2, 3, 4}"
      ]
     },
     "execution_count": 13,
     "metadata": {},
     "output_type": "execute_result"
    }
   ],
   "source": [
    "a={1, 2, 3, 4, 5}\n",
    "b= 5\n",
    "if b in a:\n",
    "    a.remove(b)\n",
    "    \n",
    "a"
   ]
  },
  {
   "cell_type": "code",
   "execution_count": 15,
   "id": "fa01f00a",
   "metadata": {},
   "outputs": [],
   "source": [
    "a={1, 2, 3, 4, 5}\n",
    "b=a.clear()\n",
    "b"
   ]
  },
  {
   "cell_type": "code",
   "execution_count": null,
   "id": "46f15c40",
   "metadata": {},
   "outputs": [
    {
     "name": "stdout",
     "output_type": "stream",
     "text": [
      "it has elements\n"
     ]
    },
    {
     "data": {
      "text/plain": [
       "{1, 2, 3, 4, 5}"
      ]
     },
     "execution_count": 20,
     "metadata": {},
     "output_type": "execute_result"
    }
   ],
   "source": [
    "a={1, 2, 3, 4, 5}\n",
    "if len(a)==0:\n",
    "    print('set it empty')\n",
    "else:\n",
    "    print(\"it has elements\")    \n",
    "\n"
   ]
  },
  {
   "cell_type": "code",
   "execution_count": 22,
   "id": "edeea2b7",
   "metadata": {},
   "outputs": [
    {
     "data": {
      "text/plain": [
       "{6, 7}"
      ]
     },
     "execution_count": 22,
     "metadata": {},
     "output_type": "execute_result"
    }
   ],
   "source": [
    "a={1, 2, 3, 4, 5}\n",
    "b={1, 3, 4, 2, 4, 2,4 ,5, 5, 6, 6,7 ,7 }\n",
    "difference= a^b\n",
    "difference"
   ]
  },
  {
   "cell_type": "code",
   "execution_count": 26,
   "id": "b637ac3e",
   "metadata": {},
   "outputs": [
    {
     "name": "stdout",
     "output_type": "stream",
     "text": [
      "6 is added\n"
     ]
    }
   ],
   "source": [
    "a={1, 2, 3, 4, 5}\n",
    "element= 6\n",
    "if not element in a:\n",
    "    a.add(element)\n",
    "    print(f'{element} is added')\n",
    "else:\n",
    "    prrit(f'{element} is already in set')"
   ]
  },
  {
   "cell_type": "code",
   "execution_count": 28,
   "id": "bf303173",
   "metadata": {},
   "outputs": [
    {
     "data": {
      "text/plain": [
       "1"
      ]
     },
     "execution_count": 28,
     "metadata": {},
     "output_type": "execute_result"
    }
   ],
   "source": [
    "a={1, 2, 3, 4, 5}\n",
    "b=a.pop()\n",
    "b"
   ]
  },
  {
   "cell_type": "code",
   "execution_count": 29,
   "id": "b8d74b93",
   "metadata": {},
   "outputs": [
    {
     "data": {
      "text/plain": [
       "5"
      ]
     },
     "execution_count": 29,
     "metadata": {},
     "output_type": "execute_result"
    }
   ],
   "source": [
    "a={1, 2, 3, 4, 5}\n",
    "max(a)"
   ]
  },
  {
   "cell_type": "code",
   "execution_count": 30,
   "id": "4315f40e",
   "metadata": {},
   "outputs": [
    {
     "data": {
      "text/plain": [
       "1"
      ]
     },
     "execution_count": 30,
     "metadata": {},
     "output_type": "execute_result"
    }
   ],
   "source": [
    "a={1, 2, 3, 4, 5}\n",
    "min(a)"
   ]
  },
  {
   "cell_type": "code",
   "execution_count": 38,
   "id": "99c17be9",
   "metadata": {},
   "outputs": [
    {
     "name": "stdout",
     "output_type": "stream",
     "text": [
      "{2, 4, 6, 8, 10}\n"
     ]
    }
   ],
   "source": [
    "# Given set of integers\n",
    "numbers = {1, 2, 3, 4, 5, 6, 7, 8, 9, 10}\n",
    "\n",
    "# Initialize an empty set to store even numbers\n",
    "even_numbers = set()\n",
    "\n",
    "# Loop through the set and add even numbers to the new set\n",
    "for num in numbers:\n",
    "    if num % 2 == 0:\n",
    "        even_numbers.add(num)\n",
    "\n",
    "print(even_numbers)  # Output: {2, 4, 6, 8, 10}\n"
   ]
  },
  {
   "cell_type": "code",
   "execution_count": 41,
   "id": "47099c8b",
   "metadata": {},
   "outputs": [
    {
     "data": {
      "text/plain": [
       "{1, 2, 3, 4, 5, 6, 7, 8, 9, 10}"
      ]
     },
     "execution_count": 41,
     "metadata": {},
     "output_type": "execute_result"
    }
   ],
   "source": [
    "a={1, 2, 3, 4, 5, 10, 9, 8, 7, 6}\n",
    "set(a)\n"
   ]
  },
  {
   "cell_type": "code",
   "execution_count": 40,
   "id": "2eedb2e9",
   "metadata": {},
   "outputs": [
    {
     "name": "stdout",
     "output_type": "stream",
     "text": [
      "{1, 3, 5, 7, 9}\n"
     ]
    }
   ],
   "source": [
    "# Given set of integers\n",
    "numbers = {1, 2, 3, 4, 5, 6, 7, 8, 9, 10}\n",
    "\n",
    "# Initialize an empty set to store even numbers\n",
    "even_numbers = set()\n",
    "\n",
    "# Loop through the set and add even numbers to the new set\n",
    "for num in numbers:\n",
    "    if num % 2 != 0:\n",
    "        even_numbers.add(num)\n",
    "\n",
    "print(even_numbers)  # Output: {2, 4, 6, 8, 10}\n"
   ]
  },
  {
   "cell_type": "code",
   "execution_count": 43,
   "id": "0f83aac1",
   "metadata": {},
   "outputs": [
    {
     "data": {
      "text/plain": [
       "{6, 7, 8, 9, 10}"
      ]
     },
     "execution_count": 43,
     "metadata": {},
     "output_type": "execute_result"
    }
   ],
   "source": [
    "numbers = {1, 2, 3, 4, 5, 6, 7, 8, 9, 10}\n",
    "a={1, 2, 3, 4, 5}\n",
    "b= numbers ^ a\n",
    "b\n"
   ]
  },
  {
   "cell_type": "code",
   "execution_count": 48,
   "id": "732b5835",
   "metadata": {},
   "outputs": [
    {
     "name": "stdout",
     "output_type": "stream",
     "text": [
      "2 is not on both set \n"
     ]
    }
   ],
   "source": [
    "numbers = {1, 2, 3, 4, 5, 6, 7, 8, 9, 10}\n",
    "a={12, 22, 32, 24, 25}\n",
    "\n",
    "if element in numbers and a:\n",
    "    print(f'{element} is not on both set ')\n",
    "    "
   ]
  },
  {
   "cell_type": "code",
   "execution_count": 52,
   "id": "fb78e7ac",
   "metadata": {},
   "outputs": [
    {
     "data": {
      "text/plain": [
       "[1, 2, 3, 4, 5, 6, 7, 8, 9, 10]"
      ]
     },
     "execution_count": 52,
     "metadata": {},
     "output_type": "execute_result"
    }
   ],
   "source": [
    "numbers = [1, 2, 3, 4, 4, 6, 8, 9, 4, 5, 6, 7, 8, 9, 10]\n",
    "b=set(numbers)\n",
    "d=list(b)\n",
    "d\n"
   ]
  },
  {
   "cell_type": "code",
   "execution_count": 54,
   "id": "d8c7d476",
   "metadata": {},
   "outputs": [
    {
     "data": {
      "text/plain": [
       "10"
      ]
     },
     "execution_count": 54,
     "metadata": {},
     "output_type": "execute_result"
    }
   ],
   "source": [
    "numbers = [1, 2, 3, 4, 4, 6, 8, 9, 4, 5, 6, 7, 8, 9, 10]\n",
    "b=set(numbers)\n",
    "c=len(b)\n",
    "c"
   ]
  },
  {
   "cell_type": "code",
   "execution_count": 55,
   "id": "e77bf63a",
   "metadata": {},
   "outputs": [
    {
     "data": {
      "text/plain": [
       "{3, 7, 9, 87, 91}"
      ]
     },
     "execution_count": 55,
     "metadata": {},
     "output_type": "execute_result"
    }
   ],
   "source": [
    "import random\n",
    "num=5\n",
    "lower=1\n",
    "upper=100\n",
    "random_set=set(random.sample(range(lower, upper+1), num))\n",
    "random_set"
   ]
  },
  {
   "cell_type": "code",
   "execution_count": null,
   "id": "71041b68",
   "metadata": {},
   "outputs": [],
   "source": []
  }
 ],
 "metadata": {
  "kernelspec": {
   "display_name": ".venv",
   "language": "python",
   "name": "python3"
  },
  "language_info": {
   "codemirror_mode": {
    "name": "ipython",
    "version": 3
   },
   "file_extension": ".py",
   "mimetype": "text/x-python",
   "name": "python",
   "nbconvert_exporter": "python",
   "pygments_lexer": "ipython3",
   "version": "3.9.6"
  }
 },
 "nbformat": 4,
 "nbformat_minor": 5
}
