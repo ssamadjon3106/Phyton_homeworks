{
 "cells": [
  {
   "cell_type": "code",
   "execution_count": 1,
   "id": "bd559d44",
   "metadata": {},
   "outputs": [
    {
     "name": "stdout",
     "output_type": "stream",
     "text": [
      "hello I am  Samadjon\n"
     ]
    }
   ],
   "source": [
    "def info(name):\n",
    "    print('hello I am ', name)\n",
    "\n",
    "\n",
    "result=info('Samadjon')\n",
    "result"
   ]
  },
  {
   "cell_type": "code",
   "execution_count": 2,
   "id": "ae2b797a",
   "metadata": {},
   "outputs": [
    {
     "data": {
      "text/plain": [
       "11"
      ]
     },
     "execution_count": 2,
     "metadata": {},
     "output_type": "execute_result"
    }
   ],
   "source": [
    "def add(a ,b):\n",
    "    return a+b\n",
    "\n",
    "result=add(5, 6)\n",
    "result"
   ]
  },
  {
   "cell_type": "code",
   "execution_count": 3,
   "id": "a04a74ee",
   "metadata": {},
   "outputs": [
    {
     "name": "stdout",
     "output_type": "stream",
     "text": [
      "9\n",
      "8\n",
      "9\n"
     ]
    }
   ],
   "source": [
    "def add(a, b):\n",
    "    global c\n",
    "    c+=4\n",
    "    print(c)\n",
    "    return a+b\n",
    "c=5\n",
    "\n",
    "print(add(3, 5))\n",
    "print(c)\n"
   ]
  },
  {
   "cell_type": "code",
   "execution_count": 5,
   "id": "dbe1f0bd",
   "metadata": {},
   "outputs": [
    {
     "name": "stdout",
     "output_type": "stream",
     "text": [
      "25\n"
     ]
    }
   ],
   "source": [
    "def square(c):\n",
    "    \"\"\"Salom\"\"\"\n",
    "    return c*c\n",
    "print(square(5))"
   ]
  },
  {
   "cell_type": "markdown",
   "id": "589940e3",
   "metadata": {},
   "source": [
    "# Arguments\n",
    "## Positional and Keyword Arguments"
   ]
  },
  {
   "cell_type": "code",
   "execution_count": 7,
   "id": "bccb0c00",
   "metadata": {},
   "outputs": [
    {
     "name": "stdout",
     "output_type": "stream",
     "text": [
      "BOB , Hello \n"
     ]
    }
   ],
   "source": [
    "def hello(message, name):\n",
    "    print(f\"{message} , {name} \")\n",
    "\n",
    "hello( \"BOB\", \"Hello\")    "
   ]
  },
  {
   "cell_type": "code",
   "execution_count": 10,
   "id": "b1ca71ce",
   "metadata": {},
   "outputs": [
    {
     "name": "stdout",
     "output_type": "stream",
     "text": [
      "HELLO , BOB \n"
     ]
    }
   ],
   "source": [
    "hello(message=\"HELLO\", name=\"BOB\") #keyboard argument"
   ]
  },
  {
   "cell_type": "code",
   "execution_count": null,
   "id": "e3341be7",
   "metadata": {},
   "outputs": [
    {
     "ename": "SyntaxError",
     "evalue": "positional argument follows keyword argument (3825299620.py, line 1)",
     "output_type": "error",
     "traceback": [
      "\u001b[0;36m  Cell \u001b[0;32mIn[11], line 1\u001b[0;36m\u001b[0m\n\u001b[0;31m    hello(name=\"Samadjon\", \"Hello\") #keyboard argument does not follow positional argument\u001b[0m\n\u001b[0m                                  ^\u001b[0m\n\u001b[0;31mSyntaxError\u001b[0m\u001b[0;31m:\u001b[0m positional argument follows keyword argument\n"
     ]
    }
   ],
   "source": [
    "#hello(name=\"Samadjon\", \"Hello\") #keyboard argument does not follow positional argument"
   ]
  },
  {
   "cell_type": "code",
   "execution_count": 14,
   "id": "029b1e20",
   "metadata": {},
   "outputs": [
    {
     "ename": "TypeError",
     "evalue": "hello() got multiple values for argument 'message'",
     "output_type": "error",
     "traceback": [
      "\u001b[0;31m---------------------------------------------------------------------------\u001b[0m",
      "\u001b[0;31mTypeError\u001b[0m                                 Traceback (most recent call last)",
      "Cell \u001b[0;32mIn[14], line 1\u001b[0m\n\u001b[0;32m----> 1\u001b[0m \u001b[43mhello\u001b[49m\u001b[43m(\u001b[49m\u001b[38;5;124;43m\"\u001b[39;49m\u001b[38;5;124;43mBOB\u001b[39;49m\u001b[38;5;124;43m\"\u001b[39;49m\u001b[43m,\u001b[49m\u001b[43m \u001b[49m\u001b[43mmessage\u001b[49m\u001b[38;5;241;43m=\u001b[39;49m\u001b[38;5;124;43m\"\u001b[39;49m\u001b[38;5;124;43mHI\u001b[39;49m\u001b[38;5;124;43m\"\u001b[39;49m\u001b[43m)\u001b[49m\n",
      "\u001b[0;31mTypeError\u001b[0m: hello() got multiple values for argument 'message'"
     ]
    }
   ],
   "source": [
    "hello(\"BOB\", message=\"HI\")"
   ]
  },
  {
   "cell_type": "code",
   "execution_count": null,
   "id": "59bd771e",
   "metadata": {},
   "outputs": [],
   "source": []
  },
  {
   "cell_type": "markdown",
   "id": "be7b145f",
   "metadata": {},
   "source": [
    "# Positional-Only and Keywords-Only arguments"
   ]
  },
  {
   "cell_type": "code",
   "execution_count": 16,
   "id": "5eae8f14",
   "metadata": {},
   "outputs": [
    {
     "name": "stdout",
     "output_type": "stream",
     "text": [
      "exuceted\n",
      "None\n"
     ]
    }
   ],
   "source": [
    "def sss(a, b, /, d):\n",
    "    print(\"exuceted\")\n",
    "print(sss(2, 3, d=4))\n"
   ]
  },
  {
   "cell_type": "markdown",
   "id": "6e4e1e5c",
   "metadata": {},
   "source": [
    "# Default Argument"
   ]
  },
  {
   "cell_type": "code",
   "execution_count": 18,
   "id": "568a98f5",
   "metadata": {},
   "outputs": [
    {
     "name": "stdout",
     "output_type": "stream",
     "text": [
      "Guest, Hello\n"
     ]
    }
   ],
   "source": [
    "def hello(c=\"Guest\"):\n",
    "    print(f\"{c}, Hello\")\n",
    "hello()    "
   ]
  },
  {
   "cell_type": "code",
   "execution_count": 19,
   "id": "fa59c4f7",
   "metadata": {},
   "outputs": [
    {
     "name": "stdout",
     "output_type": "stream",
     "text": [
      "ALice, Hello\n"
     ]
    }
   ],
   "source": [
    "hello(\"ALice\")"
   ]
  },
  {
   "cell_type": "code",
   "execution_count": 21,
   "id": "32ee5256",
   "metadata": {},
   "outputs": [
    {
     "data": {
      "text/plain": [
       "[0, 1, 2, 3, 4, 5, 6, 7, 8, 9, 10, 11]"
      ]
     },
     "execution_count": 21,
     "metadata": {},
     "output_type": "execute_result"
    }
   ],
   "source": [
    "list(range(0,12))"
   ]
  },
  {
   "cell_type": "code",
   "execution_count": 24,
   "id": "222efdd0",
   "metadata": {},
   "outputs": [
    {
     "name": "stdout",
     "output_type": "stream",
     "text": [
      "4\n",
      "81\n"
     ]
    }
   ],
   "source": [
    "def power(base, exponnet=2):\n",
    "    return base ** exponnet\n",
    "print(power(2))\n",
    "print(power(3, 4))"
   ]
  },
  {
   "cell_type": "markdown",
   "id": "d95b4ce0",
   "metadata": {},
   "source": [
    "# Arbitrary Arguments"
   ]
  },
  {
   "cell_type": "code",
   "execution_count": 27,
   "id": "7778d157",
   "metadata": {},
   "outputs": [
    {
     "name": "stdout",
     "output_type": "stream",
     "text": [
      "(1, 2, 3, 4, 4)\n",
      "14\n"
     ]
    }
   ],
   "source": [
    "def demo(*args):\n",
    "    print(args)\n",
    "    print(sum(args))\n",
    "demo(1, 2, 3, 4, 4)    "
   ]
  },
  {
   "cell_type": "code",
   "execution_count": 32,
   "id": "94183986",
   "metadata": {},
   "outputs": [
    {
     "name": "stdout",
     "output_type": "stream",
     "text": [
      "(2, 3, 4, 4)\n",
      "13\n",
      "<class 'tuple'>\n"
     ]
    }
   ],
   "source": [
    "def demo(x, *args):\n",
    "    print(args)\n",
    "    print(sum(args))\n",
    "    print(type(args))\n",
    "demo(1, 2, 3, 4, 4)    "
   ]
  },
  {
   "cell_type": "code",
   "execution_count": 31,
   "id": "729cecb4",
   "metadata": {},
   "outputs": [
    {
     "name": "stdout",
     "output_type": "stream",
     "text": [
      "(2, 3, 4)\n",
      "9\n"
     ]
    }
   ],
   "source": [
    "def demo(c, *args, v):\n",
    "    print(args)\n",
    "    print(sum(args))\n",
    "demo(1, 2, 3, 4, v=4)    "
   ]
  },
  {
   "cell_type": "code",
   "execution_count": 36,
   "id": "2d10d48b",
   "metadata": {},
   "outputs": [
    {
     "name": "stdout",
     "output_type": "stream",
     "text": [
      "{'a': 3, 'c': 4, 'f': 34}\n"
     ]
    }
   ],
   "source": [
    "def aaa(**kwargs):\n",
    "    print(kwargs)\n",
    "aaa(a=3, c=4, f=34)    "
   ]
  },
  {
   "cell_type": "code",
   "execution_count": 39,
   "id": "4ff8968f",
   "metadata": {},
   "outputs": [
    {
     "name": "stdout",
     "output_type": "stream",
     "text": [
      "{'a': 3, 'c': 4, 'f': 34}\n"
     ]
    }
   ],
   "source": [
    "def aaa(*args,**kwargs):\n",
    "    print(kwargs)\n",
    "aaa(34, 3,4 ,23,2, 3,23,a=3, c=4, f=34) "
   ]
  },
  {
   "cell_type": "code",
   "execution_count": 43,
   "id": "422bc1b5",
   "metadata": {},
   "outputs": [
    {
     "name": "stdout",
     "output_type": "stream",
     "text": [
      "(4, 23, 2, 3, 23)\n",
      "{'a': 3, 'c': 4, 'f': 34}\n"
     ]
    }
   ],
   "source": [
    "def aaa(g, d,*args,**kwargs):\n",
    "    print(args)\n",
    "    print(kwargs)\n",
    "\n",
    "aaa(34, 3,4 ,23,2, 3,23,a=3, c=4, f=34) "
   ]
  },
  {
   "cell_type": "markdown",
   "id": "7d069a34",
   "metadata": {},
   "source": [
    "# lambda expressions"
   ]
  },
  {
   "cell_type": "code",
   "execution_count": null,
   "id": "194225f9",
   "metadata": {},
   "outputs": [],
   "source": []
  }
 ],
 "metadata": {
  "kernelspec": {
   "display_name": "venv",
   "language": "python",
   "name": "python3"
  },
  "language_info": {
   "codemirror_mode": {
    "name": "ipython",
    "version": 3
   },
   "file_extension": ".py",
   "mimetype": "text/x-python",
   "name": "python",
   "nbconvert_exporter": "python",
   "pygments_lexer": "ipython3",
   "version": "3.9.6"
  }
 },
 "nbformat": 4,
 "nbformat_minor": 5
}
